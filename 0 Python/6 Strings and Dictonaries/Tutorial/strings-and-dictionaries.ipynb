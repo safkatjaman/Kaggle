{
 "cells": [
  {
   "cell_type": "markdown",
   "id": "62d87e19",
   "metadata": {
    "papermill": {
     "duration": 0.031016,
     "end_time": "2021-09-13T19:56:57.406229",
     "exception": false,
     "start_time": "2021-09-13T19:56:57.375213",
     "status": "completed"
    },
    "tags": []
   },
   "source": [
    "This lesson will cover two essential Python types: **strings** and **dictionaries**."
   ]
  },
  {
   "cell_type": "markdown",
   "id": "e8916d11",
   "metadata": {
    "papermill": {
     "duration": 0.028599,
     "end_time": "2021-09-13T19:56:57.465496",
     "exception": false,
     "start_time": "2021-09-13T19:56:57.436897",
     "status": "completed"
    },
    "tags": []
   },
   "source": [
    "# Strings"
   ]
  },
  {
   "cell_type": "markdown",
   "id": "0491e008",
   "metadata": {
    "papermill": {
     "duration": 0.028503,
     "end_time": "2021-09-13T19:56:57.522878",
     "exception": false,
     "start_time": "2021-09-13T19:56:57.494375",
     "status": "completed"
    },
    "tags": []
   },
   "source": [
    "One place where the Python language really shines is in the manipulation of strings.\n",
    "This section will cover some of Python's built-in string methods and formatting operations.\n",
    "\n",
    "Such string manipulation patterns come up often in the context of data science work.\n",
    "\n",
    "## String syntax\n",
    "\n",
    "You've already seen plenty of strings in examples during the previous lessons, but just to recap, strings in Python can be defined using either single or double quotations. They are functionally equivalent."
   ]
  },
  {
   "cell_type": "code",
   "execution_count": 1,
   "id": "caec3924",
   "metadata": {
    "execution": {
     "iopub.execute_input": "2021-09-13T19:56:57.591953Z",
     "iopub.status.busy": "2021-09-13T19:56:57.591010Z",
     "iopub.status.idle": "2021-09-13T19:56:57.598872Z",
     "shell.execute_reply": "2021-09-13T19:56:57.598173Z"
    },
    "papermill": {
     "duration": 0.047251,
     "end_time": "2021-09-13T19:56:57.599025",
     "exception": false,
     "start_time": "2021-09-13T19:56:57.551774",
     "status": "completed"
    },
    "tags": []
   },
   "outputs": [
    {
     "data": {
      "text/plain": [
       "True"
      ]
     },
     "execution_count": 1,
     "metadata": {},
     "output_type": "execute_result"
    }
   ],
   "source": [
    "x = 'Pluto is a planet'\n",
    "y = \"Pluto is a planet\"\n",
    "x == y"
   ]
  },
  {
   "cell_type": "markdown",
   "id": "66ac02ad",
   "metadata": {
    "papermill": {
     "duration": 0.028868,
     "end_time": "2021-09-13T19:56:57.658019",
     "exception": false,
     "start_time": "2021-09-13T19:56:57.629151",
     "status": "completed"
    },
    "tags": []
   },
   "source": [
    "Double quotes are convenient if your string contains a single quote character (e.g. representing an apostrophe).\n",
    "\n",
    "Similarly, it's easy to create a string that contains double-quotes if you wrap it in single quotes:"
   ]
  },
  {
   "cell_type": "code",
   "execution_count": 2,
   "id": "f8d85c4d",
   "metadata": {
    "execution": {
     "iopub.execute_input": "2021-09-13T19:56:57.721170Z",
     "iopub.status.busy": "2021-09-13T19:56:57.720515Z",
     "iopub.status.idle": "2021-09-13T19:56:57.723890Z",
     "shell.execute_reply": "2021-09-13T19:56:57.723320Z"
    },
    "papermill": {
     "duration": 0.036873,
     "end_time": "2021-09-13T19:56:57.724015",
     "exception": false,
     "start_time": "2021-09-13T19:56:57.687142",
     "status": "completed"
    },
    "tags": []
   },
   "outputs": [
    {
     "name": "stdout",
     "output_type": "stream",
     "text": [
      "Pluto's a planet!\n",
      "My dog is named \"Pluto\"\n"
     ]
    }
   ],
   "source": [
    "print(\"Pluto's a planet!\")\n",
    "print('My dog is named \"Pluto\"')"
   ]
  },
  {
   "cell_type": "markdown",
   "id": "28b7c1e1",
   "metadata": {
    "papermill": {
     "duration": 0.029662,
     "end_time": "2021-09-13T19:56:57.783274",
     "exception": false,
     "start_time": "2021-09-13T19:56:57.753612",
     "status": "completed"
    },
    "tags": []
   },
   "source": [
    "If we try to put a single quote character inside a single-quoted string, Python gets confused:"
   ]
  },
  {
   "cell_type": "code",
   "execution_count": 3,
   "id": "17716364",
   "metadata": {
    "execution": {
     "iopub.execute_input": "2021-09-13T19:56:57.847170Z",
     "iopub.status.busy": "2021-09-13T19:56:57.846567Z",
     "iopub.status.idle": "2021-09-13T19:56:57.849341Z",
     "shell.execute_reply": "2021-09-13T19:56:57.849805Z"
    },
    "papermill": {
     "duration": 0.037019,
     "end_time": "2021-09-13T19:56:57.849969",
     "exception": false,
     "start_time": "2021-09-13T19:56:57.812950",
     "status": "completed"
    },
    "tags": [
     "raises-exception"
    ]
   },
   "outputs": [
    {
     "ename": "SyntaxError",
     "evalue": "invalid syntax (1561186517.py, line 1)",
     "output_type": "error",
     "traceback": [
      "\u001b[0;36m  File \u001b[0;32m\"/tmp/ipykernel_20/1561186517.py\"\u001b[0;36m, line \u001b[0;32m1\u001b[0m\n\u001b[0;31m    'Pluto's a planet!'\u001b[0m\n\u001b[0m           ^\u001b[0m\n\u001b[0;31mSyntaxError\u001b[0m\u001b[0;31m:\u001b[0m invalid syntax\n"
     ]
    }
   ],
   "source": [
    "'Pluto's a planet!'"
   ]
  },
  {
   "cell_type": "markdown",
   "id": "a62f4817",
   "metadata": {
    "papermill": {
     "duration": 0.029822,
     "end_time": "2021-09-13T19:56:57.909703",
     "exception": false,
     "start_time": "2021-09-13T19:56:57.879881",
     "status": "completed"
    },
    "tags": []
   },
   "source": [
    "We can fix this by \"escaping\" the single quote with a backslash. "
   ]
  },
  {
   "cell_type": "code",
   "execution_count": 4,
   "id": "a91bac2f",
   "metadata": {
    "execution": {
     "iopub.execute_input": "2021-09-13T19:56:57.973696Z",
     "iopub.status.busy": "2021-09-13T19:56:57.973103Z",
     "iopub.status.idle": "2021-09-13T19:56:57.977927Z",
     "shell.execute_reply": "2021-09-13T19:56:57.977495Z"
    },
    "papermill": {
     "duration": 0.038362,
     "end_time": "2021-09-13T19:56:57.978057",
     "exception": false,
     "start_time": "2021-09-13T19:56:57.939695",
     "status": "completed"
    },
    "tags": []
   },
   "outputs": [
    {
     "data": {
      "text/plain": [
       "\"Pluto's a planet!\""
      ]
     },
     "execution_count": 4,
     "metadata": {},
     "output_type": "execute_result"
    }
   ],
   "source": [
    "'Pluto\\'s a planet!'"
   ]
  },
  {
   "cell_type": "markdown",
   "id": "5f65391b",
   "metadata": {
    "papermill": {
     "duration": 0.029875,
     "end_time": "2021-09-13T19:56:58.038332",
     "exception": false,
     "start_time": "2021-09-13T19:56:58.008457",
     "status": "completed"
    },
    "tags": []
   },
   "source": [
    "The table below summarizes some important uses of the backslash character.\n",
    "\n",
    "| What you type... | What you get | example               | `print(example)`             |\n",
    "|--------------|----------------|--------------------------------------------------------|\n",
    "| `\\'`         | `'`            | `'What\\'s up?'`         | `What's up?`                 |  \n",
    "| `\\\"`         | `\"`            | `\"That's \\\"cool\\\"\"`     | `That's \"cool\"`              |  \n",
    "| `\\\\`         | `\\`            |  `\"Look, a mountain: /\\\\\"` |  `Look, a mountain: /\\`  |\n",
    "| `\\n`        |   <br/>      |   `\"1\\n2 3\"`                       |   `1`<br/>`2 3`              |"
   ]
  },
  {
   "cell_type": "markdown",
   "id": "871aebe5",
   "metadata": {
    "papermill": {
     "duration": 0.029999,
     "end_time": "2021-09-13T19:56:58.098653",
     "exception": false,
     "start_time": "2021-09-13T19:56:58.068654",
     "status": "completed"
    },
    "tags": []
   },
   "source": [
    "The last sequence, `\\n`, represents the *newline character*. It causes Python to start a new line."
   ]
  },
  {
   "cell_type": "code",
   "execution_count": 5,
   "id": "bcc76c8a",
   "metadata": {
    "execution": {
     "iopub.execute_input": "2021-09-13T19:56:58.163586Z",
     "iopub.status.busy": "2021-09-13T19:56:58.162999Z",
     "iopub.status.idle": "2021-09-13T19:56:58.166163Z",
     "shell.execute_reply": "2021-09-13T19:56:58.165706Z"
    },
    "papermill": {
     "duration": 0.037516,
     "end_time": "2021-09-13T19:56:58.166289",
     "exception": false,
     "start_time": "2021-09-13T19:56:58.128773",
     "status": "completed"
    },
    "tags": []
   },
   "outputs": [
    {
     "name": "stdout",
     "output_type": "stream",
     "text": [
      "hello\n",
      "world\n"
     ]
    }
   ],
   "source": [
    "hello = \"hello\\nworld\"\n",
    "print(hello)"
   ]
  },
  {
   "cell_type": "markdown",
   "id": "f3037347",
   "metadata": {
    "papermill": {
     "duration": 0.030183,
     "end_time": "2021-09-13T19:56:58.227151",
     "exception": false,
     "start_time": "2021-09-13T19:56:58.196968",
     "status": "completed"
    },
    "tags": []
   },
   "source": [
    "In addition, Python's triple quote syntax for strings lets us include newlines literally (i.e. by just hitting 'Enter' on our keyboard, rather than using the special '\\n' sequence). We've already seen this in the docstrings we use to document our functions, but we can use them anywhere we want to define a string."
   ]
  },
  {
   "cell_type": "code",
   "execution_count": 6,
   "id": "bd5b6b06",
   "metadata": {
    "execution": {
     "iopub.execute_input": "2021-09-13T19:56:58.291373Z",
     "iopub.status.busy": "2021-09-13T19:56:58.290819Z",
     "iopub.status.idle": "2021-09-13T19:56:58.296051Z",
     "shell.execute_reply": "2021-09-13T19:56:58.296570Z"
    },
    "papermill": {
     "duration": 0.038953,
     "end_time": "2021-09-13T19:56:58.296733",
     "exception": false,
     "start_time": "2021-09-13T19:56:58.257780",
     "status": "completed"
    },
    "tags": []
   },
   "outputs": [
    {
     "name": "stdout",
     "output_type": "stream",
     "text": [
      "hello\n",
      "world\n"
     ]
    },
    {
     "data": {
      "text/plain": [
       "True"
      ]
     },
     "execution_count": 6,
     "metadata": {},
     "output_type": "execute_result"
    }
   ],
   "source": [
    "triplequoted_hello = \"\"\"hello\n",
    "world\"\"\"\n",
    "print(triplequoted_hello)\n",
    "triplequoted_hello == hello"
   ]
  },
  {
   "cell_type": "markdown",
   "id": "24798c41",
   "metadata": {
    "papermill": {
     "duration": 0.031825,
     "end_time": "2021-09-13T19:56:58.359932",
     "exception": false,
     "start_time": "2021-09-13T19:56:58.328107",
     "status": "completed"
    },
    "tags": []
   },
   "source": [
    "The `print()` function automatically adds a newline character unless we specify a value for the keyword argument `end` other than the default value of `'\\n'`:"
   ]
  },
  {
   "cell_type": "code",
   "execution_count": 7,
   "id": "1e66ce36",
   "metadata": {
    "execution": {
     "iopub.execute_input": "2021-09-13T19:56:58.425515Z",
     "iopub.status.busy": "2021-09-13T19:56:58.424945Z",
     "iopub.status.idle": "2021-09-13T19:56:58.429413Z",
     "shell.execute_reply": "2021-09-13T19:56:58.429872Z"
    },
    "papermill": {
     "duration": 0.038892,
     "end_time": "2021-09-13T19:56:58.430033",
     "exception": false,
     "start_time": "2021-09-13T19:56:58.391141",
     "status": "completed"
    },
    "tags": []
   },
   "outputs": [
    {
     "name": "stdout",
     "output_type": "stream",
     "text": [
      "hello\n",
      "world\n",
      "hellopluto"
     ]
    }
   ],
   "source": [
    "print(\"hello\")\n",
    "print(\"world\")\n",
    "print(\"hello\", end='')\n",
    "print(\"pluto\", end='')"
   ]
  },
  {
   "cell_type": "markdown",
   "id": "965b23a7",
   "metadata": {
    "papermill": {
     "duration": 0.031044,
     "end_time": "2021-09-13T19:56:58.492565",
     "exception": false,
     "start_time": "2021-09-13T19:56:58.461521",
     "status": "completed"
    },
    "tags": []
   },
   "source": [
    "## Strings are sequences\n",
    "\n",
    "Strings can be thought of as sequences of characters. Almost everything we've seen that we can do to a list, we can also do to a string."
   ]
  },
  {
   "cell_type": "code",
   "execution_count": 8,
   "id": "e91ea82e",
   "metadata": {
    "execution": {
     "iopub.execute_input": "2021-09-13T19:56:58.559295Z",
     "iopub.status.busy": "2021-09-13T19:56:58.558722Z",
     "iopub.status.idle": "2021-09-13T19:56:58.562605Z",
     "shell.execute_reply": "2021-09-13T19:56:58.563106Z"
    },
    "papermill": {
     "duration": 0.038916,
     "end_time": "2021-09-13T19:56:58.563258",
     "exception": false,
     "start_time": "2021-09-13T19:56:58.524342",
     "status": "completed"
    },
    "tags": []
   },
   "outputs": [
    {
     "data": {
      "text/plain": [
       "'P'"
      ]
     },
     "execution_count": 8,
     "metadata": {},
     "output_type": "execute_result"
    }
   ],
   "source": [
    "# Indexing\n",
    "planet = 'Pluto'\n",
    "planet[0]"
   ]
  },
  {
   "cell_type": "code",
   "execution_count": 9,
   "id": "d406d3f1",
   "metadata": {
    "execution": {
     "iopub.execute_input": "2021-09-13T19:56:58.631446Z",
     "iopub.status.busy": "2021-09-13T19:56:58.630480Z",
     "iopub.status.idle": "2021-09-13T19:56:58.635015Z",
     "shell.execute_reply": "2021-09-13T19:56:58.635555Z"
    },
    "papermill": {
     "duration": 0.04005,
     "end_time": "2021-09-13T19:56:58.635721",
     "exception": false,
     "start_time": "2021-09-13T19:56:58.595671",
     "status": "completed"
    },
    "tags": []
   },
   "outputs": [
    {
     "data": {
      "text/plain": [
       "'uto'"
      ]
     },
     "execution_count": 9,
     "metadata": {},
     "output_type": "execute_result"
    }
   ],
   "source": [
    "# Slicing\n",
    "planet[-3:]"
   ]
  },
  {
   "cell_type": "code",
   "execution_count": 10,
   "id": "d07f1771",
   "metadata": {
    "execution": {
     "iopub.execute_input": "2021-09-13T19:56:58.704065Z",
     "iopub.status.busy": "2021-09-13T19:56:58.703174Z",
     "iopub.status.idle": "2021-09-13T19:56:58.707882Z",
     "shell.execute_reply": "2021-09-13T19:56:58.708300Z"
    },
    "papermill": {
     "duration": 0.040169,
     "end_time": "2021-09-13T19:56:58.708470",
     "exception": false,
     "start_time": "2021-09-13T19:56:58.668301",
     "status": "completed"
    },
    "tags": []
   },
   "outputs": [
    {
     "data": {
      "text/plain": [
       "5"
      ]
     },
     "execution_count": 10,
     "metadata": {},
     "output_type": "execute_result"
    }
   ],
   "source": [
    "# How long is this string?\n",
    "len(planet)"
   ]
  },
  {
   "cell_type": "code",
   "execution_count": 11,
   "id": "dc03b2e9",
   "metadata": {
    "execution": {
     "iopub.execute_input": "2021-09-13T19:56:58.779368Z",
     "iopub.status.busy": "2021-09-13T19:56:58.776931Z",
     "iopub.status.idle": "2021-09-13T19:56:58.782770Z",
     "shell.execute_reply": "2021-09-13T19:56:58.782312Z"
    },
    "papermill": {
     "duration": 0.04125,
     "end_time": "2021-09-13T19:56:58.782902",
     "exception": false,
     "start_time": "2021-09-13T19:56:58.741652",
     "status": "completed"
    },
    "tags": []
   },
   "outputs": [
    {
     "data": {
      "text/plain": [
       "['P! ', 'l! ', 'u! ', 't! ', 'o! ']"
      ]
     },
     "execution_count": 11,
     "metadata": {},
     "output_type": "execute_result"
    }
   ],
   "source": [
    "# Yes, we can even loop over them\n",
    "[char+'! ' for char in planet]"
   ]
  },
  {
   "cell_type": "markdown",
   "id": "25a917b8",
   "metadata": {
    "papermill": {
     "duration": 0.032413,
     "end_time": "2021-09-13T19:56:58.849641",
     "exception": false,
     "start_time": "2021-09-13T19:56:58.817228",
     "status": "completed"
    },
    "tags": []
   },
   "source": [
    "But a major way in which they differ from lists is that they are *immutable*. We can't modify them."
   ]
  },
  {
   "cell_type": "code",
   "execution_count": 12,
   "id": "48a64593",
   "metadata": {
    "execution": {
     "iopub.execute_input": "2021-09-13T19:56:58.920111Z",
     "iopub.status.busy": "2021-09-13T19:56:58.919532Z",
     "iopub.status.idle": "2021-09-13T19:56:58.971555Z",
     "shell.execute_reply": "2021-09-13T19:56:58.971065Z"
    },
    "papermill": {
     "duration": 0.089083,
     "end_time": "2021-09-13T19:56:58.971696",
     "exception": false,
     "start_time": "2021-09-13T19:56:58.882613",
     "status": "completed"
    },
    "tags": [
     "raises-exception"
    ]
   },
   "outputs": [
    {
     "ename": "TypeError",
     "evalue": "'str' object does not support item assignment",
     "output_type": "error",
     "traceback": [
      "\u001b[0;31m---------------------------------------------------------------------------\u001b[0m",
      "\u001b[0;31mTypeError\u001b[0m                                 Traceback (most recent call last)",
      "\u001b[0;32m/tmp/ipykernel_20/2683731249.py\u001b[0m in \u001b[0;36m<module>\u001b[0;34m\u001b[0m\n\u001b[0;32m----> 1\u001b[0;31m \u001b[0mplanet\u001b[0m\u001b[0;34m[\u001b[0m\u001b[0;36m0\u001b[0m\u001b[0;34m]\u001b[0m \u001b[0;34m=\u001b[0m \u001b[0;34m'B'\u001b[0m\u001b[0;34m\u001b[0m\u001b[0;34m\u001b[0m\u001b[0m\n\u001b[0m\u001b[1;32m      2\u001b[0m \u001b[0;31m# planet.append doesn't work either\u001b[0m\u001b[0;34m\u001b[0m\u001b[0;34m\u001b[0m\u001b[0;34m\u001b[0m\u001b[0m\n",
      "\u001b[0;31mTypeError\u001b[0m: 'str' object does not support item assignment"
     ]
    }
   ],
   "source": [
    "planet[0] = 'B'\n",
    "# planet.append doesn't work either"
   ]
  },
  {
   "cell_type": "markdown",
   "id": "f0518292",
   "metadata": {
    "papermill": {
     "duration": 0.033187,
     "end_time": "2021-09-13T19:56:59.039125",
     "exception": false,
     "start_time": "2021-09-13T19:56:59.005938",
     "status": "completed"
    },
    "tags": []
   },
   "source": [
    "## String methods\n",
    "\n",
    "Like `list`, the type `str` has lots of very useful methods. I'll show just a few examples here."
   ]
  },
  {
   "cell_type": "code",
   "execution_count": 13,
   "id": "d59d3ea3",
   "metadata": {
    "execution": {
     "iopub.execute_input": "2021-09-13T19:56:59.111039Z",
     "iopub.status.busy": "2021-09-13T19:56:59.110295Z",
     "iopub.status.idle": "2021-09-13T19:56:59.113789Z",
     "shell.execute_reply": "2021-09-13T19:56:59.113189Z"
    },
    "papermill": {
     "duration": 0.041392,
     "end_time": "2021-09-13T19:56:59.113921",
     "exception": false,
     "start_time": "2021-09-13T19:56:59.072529",
     "status": "completed"
    },
    "tags": []
   },
   "outputs": [
    {
     "data": {
      "text/plain": [
       "'PLUTO IS A PLANET!'"
      ]
     },
     "execution_count": 13,
     "metadata": {},
     "output_type": "execute_result"
    }
   ],
   "source": [
    "# ALL CAPS\n",
    "claim = \"Pluto is a planet!\"\n",
    "claim.upper()"
   ]
  },
  {
   "cell_type": "code",
   "execution_count": 14,
   "id": "9eef5853",
   "metadata": {
    "execution": {
     "iopub.execute_input": "2021-09-13T19:56:59.186186Z",
     "iopub.status.busy": "2021-09-13T19:56:59.185554Z",
     "iopub.status.idle": "2021-09-13T19:56:59.187855Z",
     "shell.execute_reply": "2021-09-13T19:56:59.188264Z"
    },
    "papermill": {
     "duration": 0.040969,
     "end_time": "2021-09-13T19:56:59.188430",
     "exception": false,
     "start_time": "2021-09-13T19:56:59.147461",
     "status": "completed"
    },
    "tags": []
   },
   "outputs": [
    {
     "data": {
      "text/plain": [
       "'pluto is a planet!'"
      ]
     },
     "execution_count": 14,
     "metadata": {},
     "output_type": "execute_result"
    }
   ],
   "source": [
    "# all lowercase\n",
    "claim.lower()"
   ]
  },
  {
   "cell_type": "code",
   "execution_count": 15,
   "id": "549f647f",
   "metadata": {
    "execution": {
     "iopub.execute_input": "2021-09-13T19:56:59.260144Z",
     "iopub.status.busy": "2021-09-13T19:56:59.259542Z",
     "iopub.status.idle": "2021-09-13T19:56:59.263907Z",
     "shell.execute_reply": "2021-09-13T19:56:59.264337Z"
    },
    "papermill": {
     "duration": 0.042075,
     "end_time": "2021-09-13T19:56:59.264520",
     "exception": false,
     "start_time": "2021-09-13T19:56:59.222445",
     "status": "completed"
    },
    "tags": []
   },
   "outputs": [
    {
     "data": {
      "text/plain": [
       "11"
      ]
     },
     "execution_count": 15,
     "metadata": {},
     "output_type": "execute_result"
    }
   ],
   "source": [
    "# Searching for the first index of a substring\n",
    "claim.index('plan')"
   ]
  },
  {
   "cell_type": "code",
   "execution_count": 16,
   "id": "c342ca5b",
   "metadata": {
    "execution": {
     "iopub.execute_input": "2021-09-13T19:56:59.337604Z",
     "iopub.status.busy": "2021-09-13T19:56:59.336693Z",
     "iopub.status.idle": "2021-09-13T19:56:59.341766Z",
     "shell.execute_reply": "2021-09-13T19:56:59.342196Z"
    },
    "papermill": {
     "duration": 0.042936,
     "end_time": "2021-09-13T19:56:59.342370",
     "exception": false,
     "start_time": "2021-09-13T19:56:59.299434",
     "status": "completed"
    },
    "tags": []
   },
   "outputs": [
    {
     "data": {
      "text/plain": [
       "True"
      ]
     },
     "execution_count": 16,
     "metadata": {},
     "output_type": "execute_result"
    }
   ],
   "source": [
    "claim.startswith(planet)"
   ]
  },
  {
   "cell_type": "code",
   "execution_count": 17,
   "id": "fc0ea867",
   "metadata": {
    "execution": {
     "iopub.execute_input": "2021-09-13T19:56:59.416365Z",
     "iopub.status.busy": "2021-09-13T19:56:59.414189Z",
     "iopub.status.idle": "2021-09-13T19:56:59.419231Z",
     "shell.execute_reply": "2021-09-13T19:56:59.419636Z"
    },
    "papermill": {
     "duration": 0.042855,
     "end_time": "2021-09-13T19:56:59.419809",
     "exception": false,
     "start_time": "2021-09-13T19:56:59.376954",
     "status": "completed"
    },
    "tags": []
   },
   "outputs": [
    {
     "data": {
      "text/plain": [
       "False"
      ]
     },
     "execution_count": 17,
     "metadata": {},
     "output_type": "execute_result"
    }
   ],
   "source": [
    "claim.endswith('dwarf planet')"
   ]
  },
  {
   "cell_type": "markdown",
   "id": "1a2b5412",
   "metadata": {
    "papermill": {
     "duration": 0.034697,
     "end_time": "2021-09-13T19:56:59.489483",
     "exception": false,
     "start_time": "2021-09-13T19:56:59.454786",
     "status": "completed"
    },
    "tags": []
   },
   "source": [
    "### Going between strings and lists: `.split()` and `.join()`\n",
    "\n",
    "`str.split()` turns a string into a list of smaller strings, breaking on whitespace by default. This is super useful for taking you from one big string to a list of words."
   ]
  },
  {
   "cell_type": "code",
   "execution_count": 18,
   "id": "17808d24",
   "metadata": {
    "execution": {
     "iopub.execute_input": "2021-09-13T19:56:59.562237Z",
     "iopub.status.busy": "2021-09-13T19:56:59.561685Z",
     "iopub.status.idle": "2021-09-13T19:56:59.565533Z",
     "shell.execute_reply": "2021-09-13T19:56:59.565968Z"
    },
    "papermill": {
     "duration": 0.041845,
     "end_time": "2021-09-13T19:56:59.566122",
     "exception": false,
     "start_time": "2021-09-13T19:56:59.524277",
     "status": "completed"
    },
    "tags": []
   },
   "outputs": [
    {
     "data": {
      "text/plain": [
       "['Pluto', 'is', 'a', 'planet!']"
      ]
     },
     "execution_count": 18,
     "metadata": {},
     "output_type": "execute_result"
    }
   ],
   "source": [
    "words = claim.split()\n",
    "words"
   ]
  },
  {
   "cell_type": "markdown",
   "id": "77867116",
   "metadata": {
    "papermill": {
     "duration": 0.043546,
     "end_time": "2021-09-13T19:56:59.648278",
     "exception": false,
     "start_time": "2021-09-13T19:56:59.604732",
     "status": "completed"
    },
    "tags": []
   },
   "source": [
    "Occasionally you'll want to split on something other than whitespace:"
   ]
  },
  {
   "cell_type": "code",
   "execution_count": 19,
   "id": "d41c96ca",
   "metadata": {
    "collapsed": true,
    "execution": {
     "iopub.execute_input": "2021-09-13T19:56:59.724636Z",
     "iopub.status.busy": "2021-09-13T19:56:59.724073Z",
     "iopub.status.idle": "2021-09-13T19:56:59.726822Z",
     "shell.execute_reply": "2021-09-13T19:56:59.727238Z"
    },
    "papermill": {
     "duration": 0.041132,
     "end_time": "2021-09-13T19:56:59.727406",
     "exception": false,
     "start_time": "2021-09-13T19:56:59.686274",
     "status": "completed"
    },
    "tags": []
   },
   "outputs": [],
   "source": [
    "datestr = '1956-01-31'\n",
    "year, month, day = datestr.split('-')"
   ]
  },
  {
   "cell_type": "markdown",
   "id": "1eb24626",
   "metadata": {
    "papermill": {
     "duration": 0.035008,
     "end_time": "2021-09-13T19:56:59.797908",
     "exception": false,
     "start_time": "2021-09-13T19:56:59.762900",
     "status": "completed"
    },
    "tags": []
   },
   "source": [
    "`str.join()` takes us in the other direction, sewing a list of strings up into one long string, using the string it was called on as a separator."
   ]
  },
  {
   "cell_type": "code",
   "execution_count": 20,
   "id": "419bbab4",
   "metadata": {
    "execution": {
     "iopub.execute_input": "2021-09-13T19:56:59.873206Z",
     "iopub.status.busy": "2021-09-13T19:56:59.871446Z",
     "iopub.status.idle": "2021-09-13T19:56:59.876168Z",
     "shell.execute_reply": "2021-09-13T19:56:59.876638Z"
    },
    "papermill": {
     "duration": 0.043808,
     "end_time": "2021-09-13T19:56:59.876799",
     "exception": false,
     "start_time": "2021-09-13T19:56:59.832991",
     "status": "completed"
    },
    "tags": []
   },
   "outputs": [
    {
     "data": {
      "text/plain": [
       "'01/31/1956'"
      ]
     },
     "execution_count": 20,
     "metadata": {},
     "output_type": "execute_result"
    }
   ],
   "source": [
    "'/'.join([month, day, year])"
   ]
  },
  {
   "cell_type": "code",
   "execution_count": 21,
   "id": "b225395d",
   "metadata": {
    "execution": {
     "iopub.execute_input": "2021-09-13T19:56:59.954734Z",
     "iopub.status.busy": "2021-09-13T19:56:59.954004Z",
     "iopub.status.idle": "2021-09-13T19:56:59.957647Z",
     "shell.execute_reply": "2021-09-13T19:56:59.957152Z"
    },
    "papermill": {
     "duration": 0.044977,
     "end_time": "2021-09-13T19:56:59.957782",
     "exception": false,
     "start_time": "2021-09-13T19:56:59.912805",
     "status": "completed"
    },
    "tags": []
   },
   "outputs": [
    {
     "data": {
      "text/plain": [
       "'PLUTO 👏 IS 👏 A 👏 PLANET!'"
      ]
     },
     "execution_count": 21,
     "metadata": {},
     "output_type": "execute_result"
    }
   ],
   "source": [
    "# Yes, we can put unicode characters right in our string literals :)\n",
    "' 👏 '.join([word.upper() for word in words])"
   ]
  },
  {
   "cell_type": "markdown",
   "id": "4bb05a1f",
   "metadata": {
    "papermill": {
     "duration": 0.046464,
     "end_time": "2021-09-13T19:57:00.040808",
     "exception": false,
     "start_time": "2021-09-13T19:56:59.994344",
     "status": "completed"
    },
    "tags": []
   },
   "source": [
    "### Building strings with `.format()`\n",
    "\n",
    "Python lets us concatenate strings with the `+` operator."
   ]
  },
  {
   "cell_type": "code",
   "execution_count": 22,
   "id": "c0ae21b5",
   "metadata": {
    "execution": {
     "iopub.execute_input": "2021-09-13T19:57:00.124215Z",
     "iopub.status.busy": "2021-09-13T19:57:00.123305Z",
     "iopub.status.idle": "2021-09-13T19:57:00.127299Z",
     "shell.execute_reply": "2021-09-13T19:57:00.126719Z"
    },
    "papermill": {
     "duration": 0.048676,
     "end_time": "2021-09-13T19:57:00.127449",
     "exception": false,
     "start_time": "2021-09-13T19:57:00.078773",
     "status": "completed"
    },
    "tags": []
   },
   "outputs": [
    {
     "data": {
      "text/plain": [
       "'Pluto, we miss you.'"
      ]
     },
     "execution_count": 22,
     "metadata": {},
     "output_type": "execute_result"
    }
   ],
   "source": [
    "planet + ', we miss you.'"
   ]
  },
  {
   "cell_type": "markdown",
   "id": "12ecf3f3",
   "metadata": {
    "papermill": {
     "duration": 0.036285,
     "end_time": "2021-09-13T19:57:00.200907",
     "exception": false,
     "start_time": "2021-09-13T19:57:00.164622",
     "status": "completed"
    },
    "tags": []
   },
   "source": [
    "If we want to throw in any non-string objects, we have to be careful to call `str()` on them first"
   ]
  },
  {
   "cell_type": "code",
   "execution_count": 23,
   "id": "6058c56b",
   "metadata": {
    "execution": {
     "iopub.execute_input": "2021-09-13T19:57:00.276743Z",
     "iopub.status.busy": "2021-09-13T19:57:00.276152Z",
     "iopub.status.idle": "2021-09-13T19:57:00.287780Z",
     "shell.execute_reply": "2021-09-13T19:57:00.287310Z"
    },
    "papermill": {
     "duration": 0.050593,
     "end_time": "2021-09-13T19:57:00.287917",
     "exception": false,
     "start_time": "2021-09-13T19:57:00.237324",
     "status": "completed"
    },
    "tags": [
     "raises-exception"
    ]
   },
   "outputs": [
    {
     "ename": "TypeError",
     "evalue": "can only concatenate str (not \"int\") to str",
     "output_type": "error",
     "traceback": [
      "\u001b[0;31m---------------------------------------------------------------------------\u001b[0m",
      "\u001b[0;31mTypeError\u001b[0m                                 Traceback (most recent call last)",
      "\u001b[0;32m/tmp/ipykernel_20/1802981568.py\u001b[0m in \u001b[0;36m<module>\u001b[0;34m\u001b[0m\n\u001b[1;32m      1\u001b[0m \u001b[0mposition\u001b[0m \u001b[0;34m=\u001b[0m \u001b[0;36m9\u001b[0m\u001b[0;34m\u001b[0m\u001b[0;34m\u001b[0m\u001b[0m\n\u001b[0;32m----> 2\u001b[0;31m \u001b[0mplanet\u001b[0m \u001b[0;34m+\u001b[0m \u001b[0;34m\", you'll always be the \"\u001b[0m \u001b[0;34m+\u001b[0m \u001b[0mposition\u001b[0m \u001b[0;34m+\u001b[0m \u001b[0;34m\"th planet to me.\"\u001b[0m\u001b[0;34m\u001b[0m\u001b[0;34m\u001b[0m\u001b[0m\n\u001b[0m",
      "\u001b[0;31mTypeError\u001b[0m: can only concatenate str (not \"int\") to str"
     ]
    }
   ],
   "source": [
    "position = 9\n",
    "planet + \", you'll always be the \" + position + \"th planet to me.\""
   ]
  },
  {
   "cell_type": "code",
   "execution_count": 24,
   "id": "02eb41e8",
   "metadata": {
    "execution": {
     "iopub.execute_input": "2021-09-13T19:57:00.368665Z",
     "iopub.status.busy": "2021-09-13T19:57:00.367918Z",
     "iopub.status.idle": "2021-09-13T19:57:00.370827Z",
     "shell.execute_reply": "2021-09-13T19:57:00.371241Z"
    },
    "papermill": {
     "duration": 0.046169,
     "end_time": "2021-09-13T19:57:00.371415",
     "exception": false,
     "start_time": "2021-09-13T19:57:00.325246",
     "status": "completed"
    },
    "tags": []
   },
   "outputs": [
    {
     "data": {
      "text/plain": [
       "\"Pluto, you'll always be the 9th planet to me.\""
      ]
     },
     "execution_count": 24,
     "metadata": {},
     "output_type": "execute_result"
    }
   ],
   "source": [
    "planet + \", you'll always be the \" + str(position) + \"th planet to me.\""
   ]
  },
  {
   "cell_type": "markdown",
   "id": "bcef20f9",
   "metadata": {
    "papermill": {
     "duration": 0.036977,
     "end_time": "2021-09-13T19:57:00.445430",
     "exception": false,
     "start_time": "2021-09-13T19:57:00.408453",
     "status": "completed"
    },
    "tags": []
   },
   "source": [
    "This is getting hard to read and annoying to type. `str.format()` to the rescue."
   ]
  },
  {
   "cell_type": "code",
   "execution_count": 25,
   "id": "53a02edd",
   "metadata": {
    "execution": {
     "iopub.execute_input": "2021-09-13T19:57:00.528857Z",
     "iopub.status.busy": "2021-09-13T19:57:00.526290Z",
     "iopub.status.idle": "2021-09-13T19:57:00.533113Z",
     "shell.execute_reply": "2021-09-13T19:57:00.533943Z"
    },
    "papermill": {
     "duration": 0.051798,
     "end_time": "2021-09-13T19:57:00.534251",
     "exception": false,
     "start_time": "2021-09-13T19:57:00.482453",
     "status": "completed"
    },
    "tags": []
   },
   "outputs": [
    {
     "data": {
      "text/plain": [
       "\"Pluto, you'll always be the 9th planet to me.\""
      ]
     },
     "execution_count": 25,
     "metadata": {},
     "output_type": "execute_result"
    }
   ],
   "source": [
    "\"{}, you'll always be the {}th planet to me.\".format(planet, position)"
   ]
  },
  {
   "cell_type": "markdown",
   "id": "6e838457",
   "metadata": {
    "papermill": {
     "duration": 0.041519,
     "end_time": "2021-09-13T19:57:00.619705",
     "exception": false,
     "start_time": "2021-09-13T19:57:00.578186",
     "status": "completed"
    },
    "tags": []
   },
   "source": [
    "So much cleaner! We call `.format()` on a \"format string\", where the Python values we want to insert are represented with `{}` placeholders.\n",
    "\n",
    "Notice how we didn't even have to call `str()` to convert `position` from an int. `format()` takes care of that for us.\n",
    "\n",
    "If that was all that `format()` did, it would still be incredibly useful. But as it turns out, it can do a *lot* more. Here's just a taste:"
   ]
  },
  {
   "cell_type": "code",
   "execution_count": 26,
   "id": "7e86b2ff",
   "metadata": {
    "execution": {
     "iopub.execute_input": "2021-09-13T19:57:00.701049Z",
     "iopub.status.busy": "2021-09-13T19:57:00.698064Z",
     "iopub.status.idle": "2021-09-13T19:57:00.703543Z",
     "shell.execute_reply": "2021-09-13T19:57:00.704011Z"
    },
    "papermill": {
     "duration": 0.046636,
     "end_time": "2021-09-13T19:57:00.704165",
     "exception": false,
     "start_time": "2021-09-13T19:57:00.657529",
     "status": "completed"
    },
    "tags": []
   },
   "outputs": [
    {
     "data": {
      "text/plain": [
       "\"Pluto weighs about 1.3e+22 kilograms (0.218% of Earth's mass). It is home to 52,910,390 Plutonians.\""
      ]
     },
     "execution_count": 26,
     "metadata": {},
     "output_type": "execute_result"
    }
   ],
   "source": [
    "pluto_mass = 1.303 * 10**22\n",
    "earth_mass = 5.9722 * 10**24\n",
    "population = 52910390\n",
    "#         2 decimal points   3 decimal points, format as percent     separate with commas\n",
    "\"{} weighs about {:.2} kilograms ({:.3%} of Earth's mass). It is home to {:,} Plutonians.\".format(\n",
    "    planet, pluto_mass, pluto_mass / earth_mass, population,\n",
    ")"
   ]
  },
  {
   "cell_type": "code",
   "execution_count": 27,
   "id": "6bbb773c",
   "metadata": {
    "execution": {
     "iopub.execute_input": "2021-09-13T19:57:00.785303Z",
     "iopub.status.busy": "2021-09-13T19:57:00.784545Z",
     "iopub.status.idle": "2021-09-13T19:57:00.787408Z",
     "shell.execute_reply": "2021-09-13T19:57:00.787834Z"
    },
    "papermill": {
     "duration": 0.045932,
     "end_time": "2021-09-13T19:57:00.787986",
     "exception": false,
     "start_time": "2021-09-13T19:57:00.742054",
     "status": "completed"
    },
    "tags": []
   },
   "outputs": [
    {
     "name": "stdout",
     "output_type": "stream",
     "text": [
      "Pluto's a planet.\n",
      "No, it's a dwarf planet.\n",
      "planet!\n",
      "dwarf planet!\n"
     ]
    }
   ],
   "source": [
    "# Referring to format() arguments by index, starting from 0\n",
    "s = \"\"\"Pluto's a {0}.\n",
    "No, it's a {1}.\n",
    "{0}!\n",
    "{1}!\"\"\".format('planet', 'dwarf planet')\n",
    "print(s)"
   ]
  },
  {
   "cell_type": "markdown",
   "id": "a402945a",
   "metadata": {
    "papermill": {
     "duration": 0.038349,
     "end_time": "2021-09-13T19:57:00.864299",
     "exception": false,
     "start_time": "2021-09-13T19:57:00.825950",
     "status": "completed"
    },
    "tags": []
   },
   "source": [
    "You could probably write a short book just on `str.format`, so I'll stop here, and point you to [pyformat.info](https://pyformat.info/) and [the official docs](https://docs.python.org/3/library/string.html#formatstrings) for further reading."
   ]
  },
  {
   "cell_type": "markdown",
   "id": "708378f3",
   "metadata": {
    "papermill": {
     "duration": 0.037853,
     "end_time": "2021-09-13T19:57:00.940310",
     "exception": false,
     "start_time": "2021-09-13T19:57:00.902457",
     "status": "completed"
    },
    "tags": []
   },
   "source": [
    "# Dictionaries\n",
    "\n",
    "Dictionaries are a built-in Python data structure for mapping keys to values."
   ]
  },
  {
   "cell_type": "code",
   "execution_count": 28,
   "id": "2c9eacd0",
   "metadata": {
    "collapsed": true,
    "execution": {
     "iopub.execute_input": "2021-09-13T19:57:01.020722Z",
     "iopub.status.busy": "2021-09-13T19:57:01.020088Z",
     "iopub.status.idle": "2021-09-13T19:57:01.023818Z",
     "shell.execute_reply": "2021-09-13T19:57:01.024290Z"
    },
    "papermill": {
     "duration": 0.045628,
     "end_time": "2021-09-13T19:57:01.024468",
     "exception": false,
     "start_time": "2021-09-13T19:57:00.978840",
     "status": "completed"
    },
    "tags": []
   },
   "outputs": [],
   "source": [
    "numbers = {'one':1, 'two':2, 'three':3}"
   ]
  },
  {
   "cell_type": "markdown",
   "id": "dde03309",
   "metadata": {
    "papermill": {
     "duration": 0.038568,
     "end_time": "2021-09-13T19:57:01.101698",
     "exception": false,
     "start_time": "2021-09-13T19:57:01.063130",
     "status": "completed"
    },
    "tags": []
   },
   "source": [
    "In this case `'one'`, `'two'`, and `'three'` are the **keys**, and 1, 2 and 3 are their corresponding values.\n",
    "\n",
    "Values are accessed via square bracket syntax similar to indexing into lists and strings."
   ]
  },
  {
   "cell_type": "code",
   "execution_count": 29,
   "id": "7d9e6234",
   "metadata": {
    "execution": {
     "iopub.execute_input": "2021-09-13T19:57:01.183293Z",
     "iopub.status.busy": "2021-09-13T19:57:01.182380Z",
     "iopub.status.idle": "2021-09-13T19:57:01.187107Z",
     "shell.execute_reply": "2021-09-13T19:57:01.187505Z"
    },
    "papermill": {
     "duration": 0.047466,
     "end_time": "2021-09-13T19:57:01.187674",
     "exception": false,
     "start_time": "2021-09-13T19:57:01.140208",
     "status": "completed"
    },
    "tags": []
   },
   "outputs": [
    {
     "data": {
      "text/plain": [
       "1"
      ]
     },
     "execution_count": 29,
     "metadata": {},
     "output_type": "execute_result"
    }
   ],
   "source": [
    "numbers['one']"
   ]
  },
  {
   "cell_type": "markdown",
   "id": "f5c54b1f",
   "metadata": {
    "papermill": {
     "duration": 0.039195,
     "end_time": "2021-09-13T19:57:01.265697",
     "exception": false,
     "start_time": "2021-09-13T19:57:01.226502",
     "status": "completed"
    },
    "tags": []
   },
   "source": [
    "We can use the same syntax to add another key, value pair"
   ]
  },
  {
   "cell_type": "code",
   "execution_count": 30,
   "id": "3b478b36",
   "metadata": {
    "execution": {
     "iopub.execute_input": "2021-09-13T19:57:01.347078Z",
     "iopub.status.busy": "2021-09-13T19:57:01.346156Z",
     "iopub.status.idle": "2021-09-13T19:57:01.350909Z",
     "shell.execute_reply": "2021-09-13T19:57:01.351418Z"
    },
    "papermill": {
     "duration": 0.046987,
     "end_time": "2021-09-13T19:57:01.351639",
     "exception": false,
     "start_time": "2021-09-13T19:57:01.304652",
     "status": "completed"
    },
    "tags": []
   },
   "outputs": [
    {
     "data": {
      "text/plain": [
       "{'one': 1, 'two': 2, 'three': 3, 'eleven': 11}"
      ]
     },
     "execution_count": 30,
     "metadata": {},
     "output_type": "execute_result"
    }
   ],
   "source": [
    "numbers['eleven'] = 11\n",
    "numbers"
   ]
  },
  {
   "cell_type": "markdown",
   "id": "c190d232",
   "metadata": {
    "papermill": {
     "duration": 0.039175,
     "end_time": "2021-09-13T19:57:01.430462",
     "exception": false,
     "start_time": "2021-09-13T19:57:01.391287",
     "status": "completed"
    },
    "tags": []
   },
   "source": [
    "Or to change the value associated with an existing key"
   ]
  },
  {
   "cell_type": "code",
   "execution_count": 31,
   "id": "b2191d2e",
   "metadata": {
    "execution": {
     "iopub.execute_input": "2021-09-13T19:57:01.512512Z",
     "iopub.status.busy": "2021-09-13T19:57:01.511613Z",
     "iopub.status.idle": "2021-09-13T19:57:01.516571Z",
     "shell.execute_reply": "2021-09-13T19:57:01.516973Z"
    },
    "papermill": {
     "duration": 0.047585,
     "end_time": "2021-09-13T19:57:01.517136",
     "exception": false,
     "start_time": "2021-09-13T19:57:01.469551",
     "status": "completed"
    },
    "tags": []
   },
   "outputs": [
    {
     "data": {
      "text/plain": [
       "{'one': 'Pluto', 'two': 2, 'three': 3, 'eleven': 11}"
      ]
     },
     "execution_count": 31,
     "metadata": {},
     "output_type": "execute_result"
    }
   ],
   "source": [
    "numbers['one'] = 'Pluto'\n",
    "numbers"
   ]
  },
  {
   "cell_type": "markdown",
   "id": "b64d58a8",
   "metadata": {
    "papermill": {
     "duration": 0.040806,
     "end_time": "2021-09-13T19:57:01.597550",
     "exception": false,
     "start_time": "2021-09-13T19:57:01.556744",
     "status": "completed"
    },
    "tags": []
   },
   "source": [
    "Python has *dictionary comprehensions* with a syntax similar to the list comprehensions we saw in the previous tutorial."
   ]
  },
  {
   "cell_type": "code",
   "execution_count": 32,
   "id": "61f895ac",
   "metadata": {
    "execution": {
     "iopub.execute_input": "2021-09-13T19:57:01.707109Z",
     "iopub.status.busy": "2021-09-13T19:57:01.706182Z",
     "iopub.status.idle": "2021-09-13T19:57:01.711865Z",
     "shell.execute_reply": "2021-09-13T19:57:01.712298Z"
    },
    "papermill": {
     "duration": 0.064511,
     "end_time": "2021-09-13T19:57:01.712504",
     "exception": false,
     "start_time": "2021-09-13T19:57:01.647993",
     "status": "completed"
    },
    "tags": []
   },
   "outputs": [
    {
     "data": {
      "text/plain": [
       "{'Mercury': 'M',\n",
       " 'Venus': 'V',\n",
       " 'Earth': 'E',\n",
       " 'Mars': 'M',\n",
       " 'Jupiter': 'J',\n",
       " 'Saturn': 'S',\n",
       " 'Uranus': 'U',\n",
       " 'Neptune': 'N'}"
      ]
     },
     "execution_count": 32,
     "metadata": {},
     "output_type": "execute_result"
    }
   ],
   "source": [
    "planets = ['Mercury', 'Venus', 'Earth', 'Mars', 'Jupiter', 'Saturn', 'Uranus', 'Neptune']\n",
    "planet_to_initial = {planet: planet[0] for planet in planets}\n",
    "planet_to_initial"
   ]
  },
  {
   "cell_type": "markdown",
   "id": "ebf04c88",
   "metadata": {
    "papermill": {
     "duration": 0.039701,
     "end_time": "2021-09-13T19:57:01.791926",
     "exception": false,
     "start_time": "2021-09-13T19:57:01.752225",
     "status": "completed"
    },
    "tags": []
   },
   "source": [
    "The `in` operator tells us whether something is a key in the dictionary"
   ]
  },
  {
   "cell_type": "code",
   "execution_count": 33,
   "id": "ad740c10",
   "metadata": {
    "execution": {
     "iopub.execute_input": "2021-09-13T19:57:01.875188Z",
     "iopub.status.busy": "2021-09-13T19:57:01.874307Z",
     "iopub.status.idle": "2021-09-13T19:57:01.878891Z",
     "shell.execute_reply": "2021-09-13T19:57:01.879272Z"
    },
    "papermill": {
     "duration": 0.047581,
     "end_time": "2021-09-13T19:57:01.879469",
     "exception": false,
     "start_time": "2021-09-13T19:57:01.831888",
     "status": "completed"
    },
    "tags": []
   },
   "outputs": [
    {
     "data": {
      "text/plain": [
       "True"
      ]
     },
     "execution_count": 33,
     "metadata": {},
     "output_type": "execute_result"
    }
   ],
   "source": [
    "'Saturn' in planet_to_initial"
   ]
  },
  {
   "cell_type": "code",
   "execution_count": 34,
   "id": "56ee4f19",
   "metadata": {
    "execution": {
     "iopub.execute_input": "2021-09-13T19:57:01.963781Z",
     "iopub.status.busy": "2021-09-13T19:57:01.962835Z",
     "iopub.status.idle": "2021-09-13T19:57:01.967623Z",
     "shell.execute_reply": "2021-09-13T19:57:01.968014Z"
    },
    "papermill": {
     "duration": 0.048434,
     "end_time": "2021-09-13T19:57:01.968186",
     "exception": false,
     "start_time": "2021-09-13T19:57:01.919752",
     "status": "completed"
    },
    "tags": []
   },
   "outputs": [
    {
     "data": {
      "text/plain": [
       "False"
      ]
     },
     "execution_count": 34,
     "metadata": {},
     "output_type": "execute_result"
    }
   ],
   "source": [
    "'Betelgeuse' in planet_to_initial"
   ]
  },
  {
   "cell_type": "markdown",
   "id": "e6d391f5",
   "metadata": {
    "papermill": {
     "duration": 0.040612,
     "end_time": "2021-09-13T19:57:02.049491",
     "exception": false,
     "start_time": "2021-09-13T19:57:02.008879",
     "status": "completed"
    },
    "tags": []
   },
   "source": [
    "A for loop over a dictionary will loop over its keys"
   ]
  },
  {
   "cell_type": "code",
   "execution_count": 35,
   "id": "1a775a66",
   "metadata": {
    "execution": {
     "iopub.execute_input": "2021-09-13T19:57:02.135333Z",
     "iopub.status.busy": "2021-09-13T19:57:02.134425Z",
     "iopub.status.idle": "2021-09-13T19:57:02.139654Z",
     "shell.execute_reply": "2021-09-13T19:57:02.139162Z"
    },
    "papermill": {
     "duration": 0.048373,
     "end_time": "2021-09-13T19:57:02.139786",
     "exception": false,
     "start_time": "2021-09-13T19:57:02.091413",
     "status": "completed"
    },
    "tags": []
   },
   "outputs": [
    {
     "name": "stdout",
     "output_type": "stream",
     "text": [
      "one = Pluto\n",
      "two = 2\n",
      "three = 3\n",
      "eleven = 11\n"
     ]
    }
   ],
   "source": [
    "for k in numbers:\n",
    "    print(\"{} = {}\".format(k, numbers[k]))"
   ]
  },
  {
   "cell_type": "markdown",
   "id": "6200ca6b",
   "metadata": {
    "papermill": {
     "duration": 0.041233,
     "end_time": "2021-09-13T19:57:02.221934",
     "exception": false,
     "start_time": "2021-09-13T19:57:02.180701",
     "status": "completed"
    },
    "tags": []
   },
   "source": [
    "We can access a collection of all the keys or all the values with `dict.keys()` and `dict.values()`, respectively."
   ]
  },
  {
   "cell_type": "code",
   "execution_count": 36,
   "id": "c69de268",
   "metadata": {
    "execution": {
     "iopub.execute_input": "2021-09-13T19:57:02.308456Z",
     "iopub.status.busy": "2021-09-13T19:57:02.307879Z",
     "iopub.status.idle": "2021-09-13T19:57:02.310393Z",
     "shell.execute_reply": "2021-09-13T19:57:02.310898Z"
    },
    "papermill": {
     "duration": 0.048124,
     "end_time": "2021-09-13T19:57:02.311056",
     "exception": false,
     "start_time": "2021-09-13T19:57:02.262932",
     "status": "completed"
    },
    "tags": []
   },
   "outputs": [
    {
     "data": {
      "text/plain": [
       "'E J M M N S U V'"
      ]
     },
     "execution_count": 36,
     "metadata": {},
     "output_type": "execute_result"
    }
   ],
   "source": [
    "# Get all the initials, sort them alphabetically, and put them in a space-separated string.\n",
    "' '.join(sorted(planet_to_initial.values()))"
   ]
  },
  {
   "cell_type": "markdown",
   "id": "66a1ae4b",
   "metadata": {
    "papermill": {
     "duration": 0.041394,
     "end_time": "2021-09-13T19:57:02.394036",
     "exception": false,
     "start_time": "2021-09-13T19:57:02.352642",
     "status": "completed"
    },
    "tags": []
   },
   "source": [
    "The very useful `dict.items()` method lets us iterate over the keys and values of a dictionary simultaneously. (In Python jargon, an **item** refers to a key, value pair)"
   ]
  },
  {
   "cell_type": "code",
   "execution_count": 37,
   "id": "94f57ae6",
   "metadata": {
    "execution": {
     "iopub.execute_input": "2021-09-13T19:57:02.480305Z",
     "iopub.status.busy": "2021-09-13T19:57:02.479733Z",
     "iopub.status.idle": "2021-09-13T19:57:02.485295Z",
     "shell.execute_reply": "2021-09-13T19:57:02.484875Z"
    },
    "papermill": {
     "duration": 0.050129,
     "end_time": "2021-09-13T19:57:02.485451",
     "exception": false,
     "start_time": "2021-09-13T19:57:02.435322",
     "status": "completed"
    },
    "tags": []
   },
   "outputs": [
    {
     "name": "stdout",
     "output_type": "stream",
     "text": [
      "   Mercury begins with \"M\"\n",
      "     Venus begins with \"V\"\n",
      "     Earth begins with \"E\"\n",
      "      Mars begins with \"M\"\n",
      "   Jupiter begins with \"J\"\n",
      "    Saturn begins with \"S\"\n",
      "    Uranus begins with \"U\"\n",
      "   Neptune begins with \"N\"\n"
     ]
    }
   ],
   "source": [
    "for planet, initial in planet_to_initial.items():\n",
    "    print(\"{} begins with \\\"{}\\\"\".format(planet.rjust(10), initial))"
   ]
  },
  {
   "cell_type": "markdown",
   "id": "63566eba",
   "metadata": {
    "papermill": {
     "duration": 0.041116,
     "end_time": "2021-09-13T19:57:02.568134",
     "exception": false,
     "start_time": "2021-09-13T19:57:02.527018",
     "status": "completed"
    },
    "tags": []
   },
   "source": [
    "To read a full inventory of dictionaries' methods, click the \"output\" button below to read the full help page, or check out the [official online documentation](https://docs.python.org/3/library/stdtypes.html#dict)."
   ]
  },
  {
   "cell_type": "code",
   "execution_count": 38,
   "id": "92d26bce",
   "metadata": {
    "_kg_hide-output": true,
    "collapsed": true,
    "execution": {
     "iopub.execute_input": "2021-09-13T19:57:02.664003Z",
     "iopub.status.busy": "2021-09-13T19:57:02.663418Z",
     "iopub.status.idle": "2021-09-13T19:57:02.666474Z",
     "shell.execute_reply": "2021-09-13T19:57:02.666917Z"
    },
    "papermill": {
     "duration": 0.057178,
     "end_time": "2021-09-13T19:57:02.667071",
     "exception": false,
     "start_time": "2021-09-13T19:57:02.609893",
     "status": "completed"
    },
    "tags": []
   },
   "outputs": [
    {
     "name": "stdout",
     "output_type": "stream",
     "text": [
      "Help on class dict in module builtins:\n",
      "\n",
      "class dict(object)\n",
      " |  dict() -> new empty dictionary\n",
      " |  dict(mapping) -> new dictionary initialized from a mapping object's\n",
      " |      (key, value) pairs\n",
      " |  dict(iterable) -> new dictionary initialized as if via:\n",
      " |      d = {}\n",
      " |      for k, v in iterable:\n",
      " |          d[k] = v\n",
      " |  dict(**kwargs) -> new dictionary initialized with the name=value pairs\n",
      " |      in the keyword argument list.  For example:  dict(one=1, two=2)\n",
      " |  \n",
      " |  Methods defined here:\n",
      " |  \n",
      " |  __contains__(self, key, /)\n",
      " |      True if the dictionary has the specified key, else False.\n",
      " |  \n",
      " |  __delitem__(self, key, /)\n",
      " |      Delete self[key].\n",
      " |  \n",
      " |  __eq__(self, value, /)\n",
      " |      Return self==value.\n",
      " |  \n",
      " |  __ge__(self, value, /)\n",
      " |      Return self>=value.\n",
      " |  \n",
      " |  __getattribute__(self, name, /)\n",
      " |      Return getattr(self, name).\n",
      " |  \n",
      " |  __getitem__(...)\n",
      " |      x.__getitem__(y) <==> x[y]\n",
      " |  \n",
      " |  __gt__(self, value, /)\n",
      " |      Return self>value.\n",
      " |  \n",
      " |  __init__(self, /, *args, **kwargs)\n",
      " |      Initialize self.  See help(type(self)) for accurate signature.\n",
      " |  \n",
      " |  __iter__(self, /)\n",
      " |      Implement iter(self).\n",
      " |  \n",
      " |  __le__(self, value, /)\n",
      " |      Return self<=value.\n",
      " |  \n",
      " |  __len__(self, /)\n",
      " |      Return len(self).\n",
      " |  \n",
      " |  __lt__(self, value, /)\n",
      " |      Return self<value.\n",
      " |  \n",
      " |  __ne__(self, value, /)\n",
      " |      Return self!=value.\n",
      " |  \n",
      " |  __repr__(self, /)\n",
      " |      Return repr(self).\n",
      " |  \n",
      " |  __setitem__(self, key, value, /)\n",
      " |      Set self[key] to value.\n",
      " |  \n",
      " |  __sizeof__(...)\n",
      " |      D.__sizeof__() -> size of D in memory, in bytes\n",
      " |  \n",
      " |  clear(...)\n",
      " |      D.clear() -> None.  Remove all items from D.\n",
      " |  \n",
      " |  copy(...)\n",
      " |      D.copy() -> a shallow copy of D\n",
      " |  \n",
      " |  get(self, key, default=None, /)\n",
      " |      Return the value for key if key is in the dictionary, else default.\n",
      " |  \n",
      " |  items(...)\n",
      " |      D.items() -> a set-like object providing a view on D's items\n",
      " |  \n",
      " |  keys(...)\n",
      " |      D.keys() -> a set-like object providing a view on D's keys\n",
      " |  \n",
      " |  pop(...)\n",
      " |      D.pop(k[,d]) -> v, remove specified key and return the corresponding value.\n",
      " |      If key is not found, d is returned if given, otherwise KeyError is raised\n",
      " |  \n",
      " |  popitem(...)\n",
      " |      D.popitem() -> (k, v), remove and return some (key, value) pair as a\n",
      " |      2-tuple; but raise KeyError if D is empty.\n",
      " |  \n",
      " |  setdefault(self, key, default=None, /)\n",
      " |      Insert key with a value of default if key is not in the dictionary.\n",
      " |      \n",
      " |      Return the value for key if key is in the dictionary, else default.\n",
      " |  \n",
      " |  update(...)\n",
      " |      D.update([E, ]**F) -> None.  Update D from dict/iterable E and F.\n",
      " |      If E is present and has a .keys() method, then does:  for k in E: D[k] = E[k]\n",
      " |      If E is present and lacks a .keys() method, then does:  for k, v in E: D[k] = v\n",
      " |      In either case, this is followed by: for k in F:  D[k] = F[k]\n",
      " |  \n",
      " |  values(...)\n",
      " |      D.values() -> an object providing a view on D's values\n",
      " |  \n",
      " |  ----------------------------------------------------------------------\n",
      " |  Class methods defined here:\n",
      " |  \n",
      " |  fromkeys(iterable, value=None, /) from builtins.type\n",
      " |      Create a new dictionary with keys from iterable and values set to value.\n",
      " |  \n",
      " |  ----------------------------------------------------------------------\n",
      " |  Static methods defined here:\n",
      " |  \n",
      " |  __new__(*args, **kwargs) from builtins.type\n",
      " |      Create and return a new object.  See help(type) for accurate signature.\n",
      " |  \n",
      " |  ----------------------------------------------------------------------\n",
      " |  Data and other attributes defined here:\n",
      " |  \n",
      " |  __hash__ = None\n",
      "\n"
     ]
    }
   ],
   "source": [
    "help(dict)"
   ]
  },
  {
   "cell_type": "markdown",
   "id": "78d2775d",
   "metadata": {
    "papermill": {
     "duration": 0.041802,
     "end_time": "2021-09-13T19:57:02.751595",
     "exception": false,
     "start_time": "2021-09-13T19:57:02.709793",
     "status": "completed"
    },
    "tags": []
   },
   "source": [
    "# Your Turn\n",
    "\n",
    "You've learned a lot of Python... go **[demonstrate your new skills](https://www.kaggle.com/kernels/fork/1275185)** with some realistic programming applications."
   ]
  }
 ],
 "metadata": {
  "anaconda-cloud": {},
  "kernelspec": {
   "display_name": "Python 3",
   "language": "python",
   "name": "python3"
  },
  "language_info": {
   "codemirror_mode": {
    "name": "ipython",
    "version": 3
   },
   "file_extension": ".py",
   "mimetype": "text/x-python",
   "name": "python",
   "nbconvert_exporter": "python",
   "pygments_lexer": "ipython3",
   "version": "3.7.10"
  },
  "learntools_metadata": {
   "lesson_index": 5,
   "type": "tutorial"
  },
  "papermill": {
   "default_parameters": {},
   "duration": 12.675029,
   "end_time": "2021-09-13T19:57:03.302401",
   "environment_variables": {},
   "exception": null,
   "input_path": "__notebook__.ipynb",
   "output_path": "__notebook__.ipynb",
   "parameters": {},
   "start_time": "2021-09-13T19:56:50.627372",
   "version": "2.3.3"
  }
 },
 "nbformat": 4,
 "nbformat_minor": 5
}
