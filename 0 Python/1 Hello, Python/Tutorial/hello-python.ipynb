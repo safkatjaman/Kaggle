{
 "cells": [
  {
   "cell_type": "markdown",
   "id": "e7fe6827",
   "metadata": {
    "papermill": {
     "duration": 0.02537,
     "end_time": "2021-09-13T19:56:51.586766",
     "exception": false,
     "start_time": "2021-09-13T19:56:51.561396",
     "status": "completed"
    },
    "tags": []
   },
   "source": [
    "This course covers the key Python skills you’ll need so you can start using Python for data science. \n",
    "\n",
    "We'll start with a brief overview of Python syntax, variable assignment, and arithmetic operators. If you have previous Python experience, you can [skip straight to the hands-on exercise](https://www.kaggle.com/kernels/fork/1275163)."
   ]
  },
  {
   "cell_type": "markdown",
   "id": "cd3f05b9",
   "metadata": {
    "papermill": {
     "duration": 0.02784,
     "end_time": "2021-09-13T19:56:51.641223",
     "exception": false,
     "start_time": "2021-09-13T19:56:51.613383",
     "status": "completed"
    },
    "tags": []
   },
   "source": [
    "# Hello, Python!\n",
    "\n",
    "Python was named for the British comedy troupe [Monty Python](https://en.wikipedia.org/wiki/Monty_Python), so we'll make our first Python program a homage to their skit about Spam.\n",
    "\n",
    "Just for fun, try reading over the code below and predicting what it's going to do when run. (If you have no idea, that's fine!)\n",
    "\n",
    "Then click the \"output\" button to see the results of our program."
   ]
  },
  {
   "cell_type": "code",
   "execution_count": 1,
   "id": "8452244b",
   "metadata": {
    "_kg_hide-output": true,
    "execution": {
     "iopub.execute_input": "2021-09-13T19:56:51.711809Z",
     "iopub.status.busy": "2021-09-13T19:56:51.707715Z",
     "iopub.status.idle": "2021-09-13T19:56:51.717679Z",
     "shell.execute_reply": "2021-09-13T19:56:51.717079Z"
    },
    "papermill": {
     "duration": 0.044488,
     "end_time": "2021-09-13T19:56:51.717873",
     "exception": false,
     "start_time": "2021-09-13T19:56:51.673385",
     "status": "completed"
    },
    "tags": []
   },
   "outputs": [
    {
     "name": "stdout",
     "output_type": "stream",
     "text": [
      "0\n",
      "But I don't want ANY spam!\n",
      "Spam Spam Spam Spam \n"
     ]
    }
   ],
   "source": [
    "spam_amount = 0\n",
    "print(spam_amount)\n",
    "\n",
    "# Ordering Spam, egg, Spam, Spam, bacon and Spam (4 more servings of Spam)\n",
    "spam_amount = spam_amount + 4\n",
    "\n",
    "if spam_amount > 0:\n",
    "    print(\"But I don't want ANY spam!\")\n",
    "\n",
    "viking_song = \"Spam \" * spam_amount\n",
    "print(viking_song)"
   ]
  },
  {
   "cell_type": "markdown",
   "id": "23e7573d",
   "metadata": {
    "papermill": {
     "duration": 0.02312,
     "end_time": "2021-09-13T19:56:51.765309",
     "exception": false,
     "start_time": "2021-09-13T19:56:51.742189",
     "status": "completed"
    },
    "tags": []
   },
   "source": [
    "There's a lot to unpack here! This silly program demonstrates many important aspects of what Python code looks like and how it works. Let's review the code from top to bottom."
   ]
  },
  {
   "cell_type": "code",
   "execution_count": 2,
   "id": "8d146b9d",
   "metadata": {
    "collapsed": true,
    "execution": {
     "iopub.execute_input": "2021-09-13T19:56:51.827566Z",
     "iopub.status.busy": "2021-09-13T19:56:51.825041Z",
     "iopub.status.idle": "2021-09-13T19:56:51.828242Z",
     "shell.execute_reply": "2021-09-13T19:56:51.828736Z"
    },
    "papermill": {
     "duration": 0.040215,
     "end_time": "2021-09-13T19:56:51.828936",
     "exception": false,
     "start_time": "2021-09-13T19:56:51.788721",
     "status": "completed"
    },
    "tags": []
   },
   "outputs": [],
   "source": [
    "spam_amount = 0"
   ]
  },
  {
   "cell_type": "markdown",
   "id": "2507cec6",
   "metadata": {
    "papermill": {
     "duration": 0.034142,
     "end_time": "2021-09-13T19:56:51.895551",
     "exception": false,
     "start_time": "2021-09-13T19:56:51.861409",
     "status": "completed"
    },
    "tags": []
   },
   "source": [
    "**Variable assignment:** Here we create a variable called `spam_amount` and assign it the value of 0 using `=`, which is called the assignment operator.\n",
    "\n",
    "> **Aside**: If you've programmed in certain other languages (like Java or C++), you might be noticing some things Python *doesn't* require us to do here:  \n",
    "- we don't need to \"declare\" `spam_amount` before assigning to it\n",
    "- we don't need to tell Python what type of value `spam_amount` is going to refer to. In fact, we can even go on to reassign `spam_amount` to refer to a different sort of thing like a string or a boolean."
   ]
  },
  {
   "cell_type": "code",
   "execution_count": 3,
   "id": "419c1876",
   "metadata": {
    "_kg_hide-output": false,
    "collapsed": true,
    "execution": {
     "iopub.execute_input": "2021-09-13T19:56:51.956991Z",
     "iopub.status.busy": "2021-09-13T19:56:51.956338Z",
     "iopub.status.idle": "2021-09-13T19:56:51.961072Z",
     "shell.execute_reply": "2021-09-13T19:56:51.961507Z"
    },
    "papermill": {
     "duration": 0.032707,
     "end_time": "2021-09-13T19:56:51.961682",
     "exception": false,
     "start_time": "2021-09-13T19:56:51.928975",
     "status": "completed"
    },
    "tags": []
   },
   "outputs": [
    {
     "name": "stdout",
     "output_type": "stream",
     "text": [
      "0\n"
     ]
    }
   ],
   "source": [
    "print(spam_amount)"
   ]
  },
  {
   "cell_type": "markdown",
   "id": "bc6a40d6",
   "metadata": {
    "papermill": {
     "duration": 0.023781,
     "end_time": "2021-09-13T19:56:52.009314",
     "exception": false,
     "start_time": "2021-09-13T19:56:51.985533",
     "status": "completed"
    },
    "tags": []
   },
   "source": [
    "**Function calls:**. `print` is a Python function that displays the value passed to it on the screen. We call functions by putting parentheses after their name, and putting the inputs (or *arguments*) to the function in those parentheses."
   ]
  },
  {
   "cell_type": "code",
   "execution_count": 4,
   "id": "79f9c3d4",
   "metadata": {
    "_kg_hide-output": false,
    "collapsed": true,
    "execution": {
     "iopub.execute_input": "2021-09-13T19:56:52.061335Z",
     "iopub.status.busy": "2021-09-13T19:56:52.060631Z",
     "iopub.status.idle": "2021-09-13T19:56:52.066545Z",
     "shell.execute_reply": "2021-09-13T19:56:52.067247Z"
    },
    "papermill": {
     "duration": 0.034255,
     "end_time": "2021-09-13T19:56:52.067517",
     "exception": false,
     "start_time": "2021-09-13T19:56:52.033262",
     "status": "completed"
    },
    "tags": []
   },
   "outputs": [],
   "source": [
    "# Ordering Spam, egg, Spam, Spam, bacon and Spam (4 more servings of Spam)\n",
    "spam_amount = spam_amount + 4"
   ]
  },
  {
   "cell_type": "markdown",
   "id": "4992fdf0",
   "metadata": {
    "papermill": {
     "duration": 0.026324,
     "end_time": "2021-09-13T19:56:52.123560",
     "exception": false,
     "start_time": "2021-09-13T19:56:52.097236",
     "status": "completed"
    },
    "tags": []
   },
   "source": [
    "The first line above is a **comment**. In Python, comments begin with the `#` symbol.\n",
    "\n",
    "Next we see an example of reassignment. Reassigning the value of an existing variable looks just the same as creating a variable - it still uses the `=` assignment operator.\n",
    "\n",
    "In this case, the value we're assigning to `spam_amount` involves some simple arithmetic on its previous value. When it encounters this line, Python evaluates the expression on the right-hand-side of the `=` (0 + 4 = 4), and then assigns that value to the variable on the left-hand-side."
   ]
  },
  {
   "cell_type": "code",
   "execution_count": 5,
   "id": "6a4f155a",
   "metadata": {
    "_kg_hide-output": false,
    "collapsed": true,
    "execution": {
     "iopub.execute_input": "2021-09-13T19:56:52.181079Z",
     "iopub.status.busy": "2021-09-13T19:56:52.180058Z",
     "iopub.status.idle": "2021-09-13T19:56:52.183956Z",
     "shell.execute_reply": "2021-09-13T19:56:52.184443Z"
    },
    "papermill": {
     "duration": 0.036652,
     "end_time": "2021-09-13T19:56:52.184630",
     "exception": false,
     "start_time": "2021-09-13T19:56:52.147978",
     "status": "completed"
    },
    "tags": []
   },
   "outputs": [
    {
     "name": "stdout",
     "output_type": "stream",
     "text": [
      "But I don't want ANY spam!\n",
      "Spam Spam Spam\n"
     ]
    }
   ],
   "source": [
    "if spam_amount > 0:\n",
    "    print(\"But I don't want ANY spam!\")\n",
    "\n",
    "viking_song = \"Spam Spam Spam\"\n",
    "print(viking_song)"
   ]
  },
  {
   "cell_type": "markdown",
   "id": "336950bc",
   "metadata": {
    "papermill": {
     "duration": 0.024524,
     "end_time": "2021-09-13T19:56:52.233999",
     "exception": false,
     "start_time": "2021-09-13T19:56:52.209475",
     "status": "completed"
    },
    "tags": []
   },
   "source": [
    "We won't talk much about \"conditionals\" until later, but, even if you've never coded before, you can probably guess what this does. Python is prized for its readability and the simplicity. \n",
    "\n",
    "Note how we indicated which code belongs to the `if`. `\"But I don't want ANY spam!\"` is only supposed to be printed if `spam_amount` is positive. But the later code (like `print(viking_song)`) should be executed no matter what. How do we (and Python) know that?\n",
    "\n",
    "The colon (`:`) at the end of the `if` line indicates that a new **code block** is starting. Subsequent lines which are indented are part of that code block. \n",
    "> **Aside**: If you've coded before, you might know that some other languages use `{`curly braces`}` to mark the beginning and end of code blocks. Python's use of meaningful whitespace can be surprising to programmers who are accustomed to other languages, but in practice it can lead to more consistent and readable code than languages that do not enforce indentation of code blocks. \n",
    "\n",
    "The later lines dealing with `viking_song` are not indented with an extra 4 spaces, so they're not a part of the `if`'s code block. We'll see more examples of indented code blocks later when we define functions and using loops.\n",
    "\n",
    "This code snippet is also our first sighting of a **string** in Python:\n",
    "\n",
    "```python\n",
    "\"But I don't want ANY spam!\"\n",
    "```\n",
    "\n",
    "Strings can be marked either by double or single quotation marks. (But because this particular string *contains* a single-quote character, we might confuse Python by trying to surround it with single-quotes, unless we're careful.)"
   ]
  },
  {
   "cell_type": "code",
   "execution_count": 6,
   "id": "0598b503",
   "metadata": {
    "_kg_hide-output": false,
    "collapsed": true,
    "execution": {
     "iopub.execute_input": "2021-09-13T19:56:52.287100Z",
     "iopub.status.busy": "2021-09-13T19:56:52.286480Z",
     "iopub.status.idle": "2021-09-13T19:56:52.290424Z",
     "shell.execute_reply": "2021-09-13T19:56:52.291026Z"
    },
    "papermill": {
     "duration": 0.032388,
     "end_time": "2021-09-13T19:56:52.291194",
     "exception": false,
     "start_time": "2021-09-13T19:56:52.258806",
     "status": "completed"
    },
    "tags": []
   },
   "outputs": [
    {
     "name": "stdout",
     "output_type": "stream",
     "text": [
      "Spam Spam Spam Spam \n"
     ]
    }
   ],
   "source": [
    "viking_song = \"Spam \" * spam_amount\n",
    "print(viking_song)"
   ]
  },
  {
   "cell_type": "markdown",
   "id": "5539ecef",
   "metadata": {
    "papermill": {
     "duration": 0.025038,
     "end_time": "2021-09-13T19:56:52.341403",
     "exception": false,
     "start_time": "2021-09-13T19:56:52.316365",
     "status": "completed"
    },
    "tags": []
   },
   "source": [
    "The `*` operator can be used to multiply two numbers (`3 * 3` evaluates to 9), but we can also multiply a string by a number, to get a version that's been repeated that many times. Python offers a number of cheeky little time-saving tricks like this where operators like `*` and `+` have a different meaning depending on what kind of thing they're applied to. (The technical term for this is [operator overloading](https://en.wikipedia.org/wiki/Operator_overloading).)"
   ]
  },
  {
   "cell_type": "markdown",
   "id": "fe08e190",
   "metadata": {
    "papermill": {
     "duration": 0.024945,
     "end_time": "2021-09-13T19:56:52.391753",
     "exception": false,
     "start_time": "2021-09-13T19:56:52.366808",
     "status": "completed"
    },
    "tags": []
   },
   "source": [
    "## Numbers and arithmetic in Python\n",
    "\n",
    "We've already seen an example of a variable containing a number above:"
   ]
  },
  {
   "cell_type": "code",
   "execution_count": 7,
   "id": "86a62a2e",
   "metadata": {
    "collapsed": true,
    "execution": {
     "iopub.execute_input": "2021-09-13T19:56:52.445645Z",
     "iopub.status.busy": "2021-09-13T19:56:52.445020Z",
     "iopub.status.idle": "2021-09-13T19:56:52.448260Z",
     "shell.execute_reply": "2021-09-13T19:56:52.448759Z"
    },
    "papermill": {
     "duration": 0.031958,
     "end_time": "2021-09-13T19:56:52.448926",
     "exception": false,
     "start_time": "2021-09-13T19:56:52.416968",
     "status": "completed"
    },
    "tags": []
   },
   "outputs": [],
   "source": [
    "spam_amount = 0"
   ]
  },
  {
   "cell_type": "markdown",
   "id": "dda95f60",
   "metadata": {
    "papermill": {
     "duration": 0.024971,
     "end_time": "2021-09-13T19:56:52.498950",
     "exception": false,
     "start_time": "2021-09-13T19:56:52.473979",
     "status": "completed"
    },
    "tags": []
   },
   "source": [
    "\"Number\" is a fine informal name for the kind of thing, but if we wanted to be more technical, we could ask Python how it would describe the type of thing that `spam_amount` is:"
   ]
  },
  {
   "cell_type": "code",
   "execution_count": 8,
   "id": "28e56e95",
   "metadata": {
    "collapsed": true,
    "execution": {
     "iopub.execute_input": "2021-09-13T19:56:52.553139Z",
     "iopub.status.busy": "2021-09-13T19:56:52.552495Z",
     "iopub.status.idle": "2021-09-13T19:56:52.559456Z",
     "shell.execute_reply": "2021-09-13T19:56:52.559933Z"
    },
    "papermill": {
     "duration": 0.035824,
     "end_time": "2021-09-13T19:56:52.560119",
     "exception": false,
     "start_time": "2021-09-13T19:56:52.524295",
     "status": "completed"
    },
    "tags": []
   },
   "outputs": [
    {
     "data": {
      "text/plain": [
       "int"
      ]
     },
     "execution_count": 8,
     "metadata": {},
     "output_type": "execute_result"
    }
   ],
   "source": [
    "type(spam_amount)"
   ]
  },
  {
   "cell_type": "markdown",
   "id": "b73886ae",
   "metadata": {
    "papermill": {
     "duration": 0.027884,
     "end_time": "2021-09-13T19:56:52.613857",
     "exception": false,
     "start_time": "2021-09-13T19:56:52.585973",
     "status": "completed"
    },
    "tags": []
   },
   "source": [
    "It's an `int` - short for integer. There's another sort of number we commonly encounter in Python:"
   ]
  },
  {
   "cell_type": "code",
   "execution_count": 9,
   "id": "a51f26ff",
   "metadata": {
    "collapsed": true,
    "execution": {
     "iopub.execute_input": "2021-09-13T19:56:52.669015Z",
     "iopub.status.busy": "2021-09-13T19:56:52.668364Z",
     "iopub.status.idle": "2021-09-13T19:56:52.673427Z",
     "shell.execute_reply": "2021-09-13T19:56:52.673999Z"
    },
    "papermill": {
     "duration": 0.034365,
     "end_time": "2021-09-13T19:56:52.674175",
     "exception": false,
     "start_time": "2021-09-13T19:56:52.639810",
     "status": "completed"
    },
    "tags": []
   },
   "outputs": [
    {
     "data": {
      "text/plain": [
       "float"
      ]
     },
     "execution_count": 9,
     "metadata": {},
     "output_type": "execute_result"
    }
   ],
   "source": [
    "type(19.95)"
   ]
  },
  {
   "cell_type": "markdown",
   "id": "254a7ab6",
   "metadata": {
    "papermill": {
     "duration": 0.025867,
     "end_time": "2021-09-13T19:56:52.726069",
     "exception": false,
     "start_time": "2021-09-13T19:56:52.700202",
     "status": "completed"
    },
    "tags": []
   },
   "source": [
    "A `float` is a number with a decimal place - very useful for representing things like weights or proportions.\n",
    "\n",
    "`type()` is the second built-in function we've seen (after `print()`), and it's another good one to remember. It's very useful to be able to ask Python \"what kind of thing is this?\". "
   ]
  },
  {
   "cell_type": "markdown",
   "id": "944c52a2",
   "metadata": {
    "papermill": {
     "duration": 0.025819,
     "end_time": "2021-09-13T19:56:52.778077",
     "exception": false,
     "start_time": "2021-09-13T19:56:52.752258",
     "status": "completed"
    },
    "tags": []
   },
   "source": [
    "A natural thing to want to do with numbers is perform arithmetic. We've seen the `+` operator for addition, and the `*` operator for multiplication. Python also has us covered for the rest of the basic buttons on your calculator:\n",
    "\n",
    "| Operator     | Name           | Description                                            |\n",
    "|--------------|----------------|--------------------------------------------------------|\n",
    "| ``a + b``    | Addition       | Sum of ``a`` and ``b``                                 |\n",
    "| ``a - b``    | Subtraction    | Difference of ``a`` and ``b``                          |\n",
    "| ``a * b``    | Multiplication | Product of ``a`` and ``b``                             |\n",
    "| ``a / b``    | True division  | Quotient of ``a`` and ``b``                            |\n",
    "| ``a // b``   | Floor division | Quotient of ``a`` and ``b``, removing fractional parts |\n",
    "| ``a % b``    | Modulus        | Integer remainder after division of ``a`` by ``b``     |\n",
    "| ``a ** b``   | Exponentiation | ``a`` raised to the power of ``b``                     |\n",
    "| ``-a``       | Negation       | The negative of ``a``                                  |\n",
    "\n",
    "<span style=\"display:none\"></span>\n",
    "\n",
    "One interesting observation here is that, whereas your calculator probably just has one button for division, Python can do two kinds. \"True division\" is basically what your calculator does:"
   ]
  },
  {
   "cell_type": "code",
   "execution_count": 10,
   "id": "49b7ba7a",
   "metadata": {
    "collapsed": true,
    "execution": {
     "iopub.execute_input": "2021-09-13T19:56:52.834257Z",
     "iopub.status.busy": "2021-09-13T19:56:52.833607Z",
     "iopub.status.idle": "2021-09-13T19:56:52.839911Z",
     "shell.execute_reply": "2021-09-13T19:56:52.839287Z"
    },
    "papermill": {
     "duration": 0.035584,
     "end_time": "2021-09-13T19:56:52.840088",
     "exception": false,
     "start_time": "2021-09-13T19:56:52.804504",
     "status": "completed"
    },
    "tags": []
   },
   "outputs": [
    {
     "name": "stdout",
     "output_type": "stream",
     "text": [
      "2.5\n",
      "3.0\n"
     ]
    }
   ],
   "source": [
    "print(5 / 2)\n",
    "print(6 / 2)"
   ]
  },
  {
   "cell_type": "markdown",
   "id": "2b79e320",
   "metadata": {
    "papermill": {
     "duration": 0.026715,
     "end_time": "2021-09-13T19:56:52.893323",
     "exception": false,
     "start_time": "2021-09-13T19:56:52.866608",
     "status": "completed"
    },
    "tags": []
   },
   "source": [
    "It always gives us a `float`. \n",
    "\n",
    "The `//` operator gives us a result that's rounded down to the next integer."
   ]
  },
  {
   "cell_type": "code",
   "execution_count": 11,
   "id": "4bad553e",
   "metadata": {
    "collapsed": true,
    "execution": {
     "iopub.execute_input": "2021-09-13T19:56:52.954062Z",
     "iopub.status.busy": "2021-09-13T19:56:52.953446Z",
     "iopub.status.idle": "2021-09-13T19:56:52.956781Z",
     "shell.execute_reply": "2021-09-13T19:56:52.957220Z"
    },
    "papermill": {
     "duration": 0.036185,
     "end_time": "2021-09-13T19:56:52.957414",
     "exception": false,
     "start_time": "2021-09-13T19:56:52.921229",
     "status": "completed"
    },
    "tags": []
   },
   "outputs": [
    {
     "name": "stdout",
     "output_type": "stream",
     "text": [
      "2\n",
      "3\n"
     ]
    }
   ],
   "source": [
    "print(5 // 2)\n",
    "print(6 // 2)"
   ]
  },
  {
   "cell_type": "markdown",
   "id": "d0f9628c",
   "metadata": {
    "papermill": {
     "duration": 0.026772,
     "end_time": "2021-09-13T19:56:53.011394",
     "exception": false,
     "start_time": "2021-09-13T19:56:52.984622",
     "status": "completed"
    },
    "tags": []
   },
   "source": [
    "Can you think of where this would be useful? You'll see an example soon in the coding challenges."
   ]
  },
  {
   "cell_type": "markdown",
   "id": "e5c68e62",
   "metadata": {
    "papermill": {
     "duration": 0.026776,
     "end_time": "2021-09-13T19:56:53.065275",
     "exception": false,
     "start_time": "2021-09-13T19:56:53.038499",
     "status": "completed"
    },
    "tags": []
   },
   "source": [
    "### Order of operations\n",
    "\n",
    "The arithmetic we learned in primary school has conventions about the order in which operations are evaluated. Some remember these by a mnemonic such as **PEMDAS** - **P**arentheses, **E**xponents, **M**ultiplication/**D**ivision, **A**ddition/**S**ubtraction.\n",
    "\n",
    "Python follows similar rules about which calculations to perform first. They're mostly pretty intuitive."
   ]
  },
  {
   "cell_type": "code",
   "execution_count": 12,
   "id": "569482f4",
   "metadata": {
    "collapsed": true,
    "execution": {
     "iopub.execute_input": "2021-09-13T19:56:53.125859Z",
     "iopub.status.busy": "2021-09-13T19:56:53.125223Z",
     "iopub.status.idle": "2021-09-13T19:56:53.128934Z",
     "shell.execute_reply": "2021-09-13T19:56:53.129409Z"
    },
    "papermill": {
     "duration": 0.036918,
     "end_time": "2021-09-13T19:56:53.129587",
     "exception": false,
     "start_time": "2021-09-13T19:56:53.092669",
     "status": "completed"
    },
    "tags": []
   },
   "outputs": [
    {
     "data": {
      "text/plain": [
       "7"
      ]
     },
     "execution_count": 12,
     "metadata": {},
     "output_type": "execute_result"
    }
   ],
   "source": [
    "8 - 3 + 2"
   ]
  },
  {
   "cell_type": "code",
   "execution_count": 13,
   "id": "dcfe042c",
   "metadata": {
    "collapsed": true,
    "execution": {
     "iopub.execute_input": "2021-09-13T19:56:53.191074Z",
     "iopub.status.busy": "2021-09-13T19:56:53.190425Z",
     "iopub.status.idle": "2021-09-13T19:56:53.194544Z",
     "shell.execute_reply": "2021-09-13T19:56:53.193933Z"
    },
    "papermill": {
     "duration": 0.037331,
     "end_time": "2021-09-13T19:56:53.194678",
     "exception": false,
     "start_time": "2021-09-13T19:56:53.157347",
     "status": "completed"
    },
    "tags": []
   },
   "outputs": [
    {
     "data": {
      "text/plain": [
       "5"
      ]
     },
     "execution_count": 13,
     "metadata": {},
     "output_type": "execute_result"
    }
   ],
   "source": [
    "-3 + 4 * 2"
   ]
  },
  {
   "cell_type": "markdown",
   "id": "dbe7fb6e",
   "metadata": {
    "papermill": {
     "duration": 0.027715,
     "end_time": "2021-09-13T19:56:53.250575",
     "exception": false,
     "start_time": "2021-09-13T19:56:53.222860",
     "status": "completed"
    },
    "tags": []
   },
   "source": [
    "Sometimes the default order of operations isn't what we want:"
   ]
  },
  {
   "cell_type": "code",
   "execution_count": 14,
   "id": "4ec45c1f",
   "metadata": {
    "collapsed": true,
    "execution": {
     "iopub.execute_input": "2021-09-13T19:56:53.312749Z",
     "iopub.status.busy": "2021-09-13T19:56:53.312117Z",
     "iopub.status.idle": "2021-09-13T19:56:53.316540Z",
     "shell.execute_reply": "2021-09-13T19:56:53.316020Z"
    },
    "papermill": {
     "duration": 0.037864,
     "end_time": "2021-09-13T19:56:53.316676",
     "exception": false,
     "start_time": "2021-09-13T19:56:53.278812",
     "status": "completed"
    },
    "tags": []
   },
   "outputs": [
    {
     "name": "stdout",
     "output_type": "stream",
     "text": [
      "Height in meters = 26.9 ?\n"
     ]
    }
   ],
   "source": [
    "hat_height_cm = 25\n",
    "my_height_cm = 190\n",
    "# How tall am I, in meters, when wearing my hat?\n",
    "total_height_meters = hat_height_cm + my_height_cm / 100\n",
    "print(\"Height in meters =\", total_height_meters, \"?\")"
   ]
  },
  {
   "cell_type": "markdown",
   "id": "104d16db",
   "metadata": {
    "papermill": {
     "duration": 0.028529,
     "end_time": "2021-09-13T19:56:53.373753",
     "exception": false,
     "start_time": "2021-09-13T19:56:53.345224",
     "status": "completed"
    },
    "tags": []
   },
   "source": [
    "Parentheses are useful here. You can add them to force Python to evaluate sub-expressions in whatever order you want."
   ]
  },
  {
   "cell_type": "code",
   "execution_count": 15,
   "id": "1c9c7f64",
   "metadata": {
    "collapsed": true,
    "execution": {
     "iopub.execute_input": "2021-09-13T19:56:53.436834Z",
     "iopub.status.busy": "2021-09-13T19:56:53.434270Z",
     "iopub.status.idle": "2021-09-13T19:56:53.441851Z",
     "shell.execute_reply": "2021-09-13T19:56:53.441324Z"
    },
    "papermill": {
     "duration": 0.0396,
     "end_time": "2021-09-13T19:56:53.442020",
     "exception": false,
     "start_time": "2021-09-13T19:56:53.402420",
     "status": "completed"
    },
    "tags": []
   },
   "outputs": [
    {
     "name": "stdout",
     "output_type": "stream",
     "text": [
      "Height in meters = 2.15\n"
     ]
    }
   ],
   "source": [
    "total_height_meters = (hat_height_cm + my_height_cm) / 100\n",
    "print(\"Height in meters =\", total_height_meters)"
   ]
  },
  {
   "cell_type": "markdown",
   "id": "404d880b",
   "metadata": {
    "papermill": {
     "duration": 0.029175,
     "end_time": "2021-09-13T19:56:53.500706",
     "exception": false,
     "start_time": "2021-09-13T19:56:53.471531",
     "status": "completed"
    },
    "tags": []
   },
   "source": [
    "### Builtin functions for working with numbers\n",
    "\n",
    "`min` and `max` return the minimum and maximum of their arguments, respectively..."
   ]
  },
  {
   "cell_type": "code",
   "execution_count": 16,
   "id": "30209367",
   "metadata": {
    "collapsed": true,
    "execution": {
     "iopub.execute_input": "2021-09-13T19:56:53.565956Z",
     "iopub.status.busy": "2021-09-13T19:56:53.565241Z",
     "iopub.status.idle": "2021-09-13T19:56:53.568979Z",
     "shell.execute_reply": "2021-09-13T19:56:53.569420Z"
    },
    "papermill": {
     "duration": 0.039364,
     "end_time": "2021-09-13T19:56:53.569594",
     "exception": false,
     "start_time": "2021-09-13T19:56:53.530230",
     "status": "completed"
    },
    "tags": []
   },
   "outputs": [
    {
     "name": "stdout",
     "output_type": "stream",
     "text": [
      "1\n",
      "3\n"
     ]
    }
   ],
   "source": [
    "print(min(1, 2, 3))\n",
    "print(max(1, 2, 3))"
   ]
  },
  {
   "cell_type": "markdown",
   "id": "2b38e667",
   "metadata": {
    "papermill": {
     "duration": 0.036955,
     "end_time": "2021-09-13T19:56:53.636498",
     "exception": false,
     "start_time": "2021-09-13T19:56:53.599543",
     "status": "completed"
    },
    "tags": []
   },
   "source": [
    "`abs` returns the absolute value of an argument:"
   ]
  },
  {
   "cell_type": "code",
   "execution_count": 17,
   "id": "b5eba380",
   "metadata": {
    "collapsed": true,
    "execution": {
     "iopub.execute_input": "2021-09-13T19:56:53.726670Z",
     "iopub.status.busy": "2021-09-13T19:56:53.725625Z",
     "iopub.status.idle": "2021-09-13T19:56:53.731405Z",
     "shell.execute_reply": "2021-09-13T19:56:53.731928Z"
    },
    "papermill": {
     "duration": 0.051009,
     "end_time": "2021-09-13T19:56:53.732127",
     "exception": false,
     "start_time": "2021-09-13T19:56:53.681118",
     "status": "completed"
    },
    "tags": []
   },
   "outputs": [
    {
     "name": "stdout",
     "output_type": "stream",
     "text": [
      "32\n",
      "32\n"
     ]
    }
   ],
   "source": [
    "print(abs(32))\n",
    "print(abs(-32))"
   ]
  },
  {
   "cell_type": "markdown",
   "id": "7b628349",
   "metadata": {
    "papermill": {
     "duration": 0.031774,
     "end_time": "2021-09-13T19:56:53.795950",
     "exception": false,
     "start_time": "2021-09-13T19:56:53.764176",
     "status": "completed"
    },
    "tags": []
   },
   "source": [
    "In addition to being the names of Python's two main numerical types, `int` and `float` can also be called as functions which convert their arguments to the corresponding type:"
   ]
  },
  {
   "cell_type": "code",
   "execution_count": 18,
   "id": "bde0bcec",
   "metadata": {
    "collapsed": true,
    "execution": {
     "iopub.execute_input": "2021-09-13T19:56:53.860981Z",
     "iopub.status.busy": "2021-09-13T19:56:53.860303Z",
     "iopub.status.idle": "2021-09-13T19:56:53.865282Z",
     "shell.execute_reply": "2021-09-13T19:56:53.865828Z"
    },
    "papermill": {
     "duration": 0.03916,
     "end_time": "2021-09-13T19:56:53.866014",
     "exception": false,
     "start_time": "2021-09-13T19:56:53.826854",
     "status": "completed"
    },
    "tags": []
   },
   "outputs": [
    {
     "name": "stdout",
     "output_type": "stream",
     "text": [
      "10.0\n",
      "3\n",
      "808\n"
     ]
    }
   ],
   "source": [
    "print(float(10))\n",
    "print(int(3.33))\n",
    "# They can even be called on strings!\n",
    "print(int('807') + 1)"
   ]
  },
  {
   "cell_type": "markdown",
   "id": "c053ad9a",
   "metadata": {
    "papermill": {
     "duration": 0.02999,
     "end_time": "2021-09-13T19:56:53.926525",
     "exception": false,
     "start_time": "2021-09-13T19:56:53.896535",
     "status": "completed"
    },
    "tags": []
   },
   "source": [
    "# Your Turn\n",
    "\n",
    "Now is your chance. Try your **[first Python programming exercise](https://www.kaggle.com/kernels/fork/1275163)**!"
   ]
  }
 ],
 "metadata": {
  "anaconda-cloud": {},
  "celltoolbar": "Edit Metadata",
  "kernelspec": {
   "display_name": "Python 3",
   "language": "python",
   "name": "python3"
  },
  "language_info": {
   "codemirror_mode": {
    "name": "ipython",
    "version": 3
   },
   "file_extension": ".py",
   "mimetype": "text/x-python",
   "name": "python",
   "nbconvert_exporter": "python",
   "pygments_lexer": "ipython3",
   "version": "3.7.10"
  },
  "learntools_metadata": {
   "lesson_index": 0,
   "type": "tutorial"
  },
  "papermill": {
   "default_parameters": {},
   "duration": 10.698852,
   "end_time": "2021-09-13T19:56:54.567749",
   "environment_variables": {},
   "exception": null,
   "input_path": "__notebook__.ipynb",
   "output_path": "__notebook__.ipynb",
   "parameters": {},
   "start_time": "2021-09-13T19:56:43.868897",
   "version": "2.3.3"
  }
 },
 "nbformat": 4,
 "nbformat_minor": 5
}
