{
 "cells": [
  {
   "cell_type": "markdown",
   "id": "ed564280",
   "metadata": {
    "papermill": {
     "duration": 0.018948,
     "end_time": "2021-09-13T19:56:58.850220",
     "exception": false,
     "start_time": "2021-09-13T19:56:58.831272",
     "status": "completed"
    },
    "tags": []
   },
   "source": [
    "# Loops\n",
    "\n",
    "Loops are a way to repeatedly execute some code. Here's an example:"
   ]
  },
  {
   "cell_type": "code",
   "execution_count": 1,
   "id": "0bee86af",
   "metadata": {
    "execution": {
     "iopub.execute_input": "2021-09-13T19:56:58.899114Z",
     "iopub.status.busy": "2021-09-13T19:56:58.898442Z",
     "iopub.status.idle": "2021-09-13T19:56:58.904731Z",
     "shell.execute_reply": "2021-09-13T19:56:58.903989Z"
    },
    "papermill": {
     "duration": 0.03555,
     "end_time": "2021-09-13T19:56:58.904895",
     "exception": false,
     "start_time": "2021-09-13T19:56:58.869345",
     "status": "completed"
    },
    "tags": []
   },
   "outputs": [
    {
     "name": "stdout",
     "output_type": "stream",
     "text": [
      "Mercury Venus Earth Mars Jupiter Saturn Uranus Neptune "
     ]
    }
   ],
   "source": [
    "planets = ['Mercury', 'Venus', 'Earth', 'Mars', 'Jupiter', 'Saturn', 'Uranus', 'Neptune']\n",
    "for planet in planets:\n",
    "    print(planet, end=' ') # print all on same line"
   ]
  },
  {
   "cell_type": "markdown",
   "id": "c442a63c",
   "metadata": {
    "papermill": {
     "duration": 0.020682,
     "end_time": "2021-09-13T19:56:58.947342",
     "exception": false,
     "start_time": "2021-09-13T19:56:58.926660",
     "status": "completed"
    },
    "tags": []
   },
   "source": [
    "The ``for`` loop specifies \n",
    "- the variable name to use (in this case, `planet`)\n",
    "- the set of values to loop over (in this case, `planets`)\n",
    "\n",
    "You use the word \"``in``\" to link them together.\n",
    "\n",
    "The object to the right of the \"``in``\" can be any object that supports iteration. Basically, if it can be thought of as a group of things, you can probably loop over it. In addition to lists, we can iterate over the elements of a tuple:"
   ]
  },
  {
   "cell_type": "code",
   "execution_count": 2,
   "id": "63514a94",
   "metadata": {
    "execution": {
     "iopub.execute_input": "2021-09-13T19:56:59.002183Z",
     "iopub.status.busy": "2021-09-13T19:56:59.001422Z",
     "iopub.status.idle": "2021-09-13T19:56:59.005138Z",
     "shell.execute_reply": "2021-09-13T19:56:59.004496Z"
    },
    "papermill": {
     "duration": 0.03341,
     "end_time": "2021-09-13T19:56:59.005296",
     "exception": false,
     "start_time": "2021-09-13T19:56:58.971886",
     "status": "completed"
    },
    "tags": []
   },
   "outputs": [
    {
     "data": {
      "text/plain": [
       "360"
      ]
     },
     "execution_count": 2,
     "metadata": {},
     "output_type": "execute_result"
    }
   ],
   "source": [
    "multiplicands = (2, 2, 2, 3, 3, 5)\n",
    "product = 1\n",
    "for mult in multiplicands:\n",
    "    product = product * mult\n",
    "product"
   ]
  },
  {
   "cell_type": "markdown",
   "id": "eb49b16a",
   "metadata": {
    "papermill": {
     "duration": 0.023631,
     "end_time": "2021-09-13T19:56:59.048966",
     "exception": false,
     "start_time": "2021-09-13T19:56:59.025335",
     "status": "completed"
    },
    "tags": []
   },
   "source": [
    "You can even loop through each character in a string:"
   ]
  },
  {
   "cell_type": "code",
   "execution_count": 3,
   "id": "887f1a71",
   "metadata": {
    "execution": {
     "iopub.execute_input": "2021-09-13T19:56:59.093686Z",
     "iopub.status.busy": "2021-09-13T19:56:59.092607Z",
     "iopub.status.idle": "2021-09-13T19:56:59.096534Z",
     "shell.execute_reply": "2021-09-13T19:56:59.096974Z"
    },
    "papermill": {
     "duration": 0.029044,
     "end_time": "2021-09-13T19:56:59.097171",
     "exception": false,
     "start_time": "2021-09-13T19:56:59.068127",
     "status": "completed"
    },
    "tags": []
   },
   "outputs": [
    {
     "name": "stdout",
     "output_type": "stream",
     "text": [
      "HELLO"
     ]
    }
   ],
   "source": [
    "s = 'steganograpHy is the practicE of conceaLing a file, message, image, or video within another fiLe, message, image, Or video.'\n",
    "msg = ''\n",
    "# print all the uppercase letters in s, one at a time\n",
    "for char in s:\n",
    "    if char.isupper():\n",
    "        print(char, end='')        "
   ]
  },
  {
   "cell_type": "markdown",
   "id": "25fe4fa0",
   "metadata": {
    "papermill": {
     "duration": 0.020257,
     "end_time": "2021-09-13T19:56:59.137823",
     "exception": false,
     "start_time": "2021-09-13T19:56:59.117566",
     "status": "completed"
    },
    "tags": []
   },
   "source": [
    "### range()\n",
    "\n",
    "`range()` is a function that returns a sequence of numbers. It turns out to be very useful for writing loops.\n",
    "\n",
    "For example, if we want to repeat some action 5 times:"
   ]
  },
  {
   "cell_type": "code",
   "execution_count": 4,
   "id": "fd713377",
   "metadata": {
    "execution": {
     "iopub.execute_input": "2021-09-13T19:56:59.182420Z",
     "iopub.status.busy": "2021-09-13T19:56:59.181353Z",
     "iopub.status.idle": "2021-09-13T19:56:59.186579Z",
     "shell.execute_reply": "2021-09-13T19:56:59.185875Z"
    },
    "papermill": {
     "duration": 0.029478,
     "end_time": "2021-09-13T19:56:59.186729",
     "exception": false,
     "start_time": "2021-09-13T19:56:59.157251",
     "status": "completed"
    },
    "tags": []
   },
   "outputs": [
    {
     "name": "stdout",
     "output_type": "stream",
     "text": [
      "Doing important work. i = 0\n",
      "Doing important work. i = 1\n",
      "Doing important work. i = 2\n",
      "Doing important work. i = 3\n",
      "Doing important work. i = 4\n"
     ]
    }
   ],
   "source": [
    "for i in range(5):\n",
    "    print(\"Doing important work. i =\", i)"
   ]
  },
  {
   "cell_type": "markdown",
   "id": "a33243ee",
   "metadata": {
    "papermill": {
     "duration": 0.019341,
     "end_time": "2021-09-13T19:56:59.225857",
     "exception": false,
     "start_time": "2021-09-13T19:56:59.206516",
     "status": "completed"
    },
    "tags": []
   },
   "source": [
    "## ``while`` loops\n",
    "The other type of loop in Python is a ``while`` loop, which iterates until some condition is met:"
   ]
  },
  {
   "cell_type": "code",
   "execution_count": 5,
   "id": "6a84d775",
   "metadata": {
    "execution": {
     "iopub.execute_input": "2021-09-13T19:56:59.272387Z",
     "iopub.status.busy": "2021-09-13T19:56:59.271320Z",
     "iopub.status.idle": "2021-09-13T19:56:59.275771Z",
     "shell.execute_reply": "2021-09-13T19:56:59.275083Z"
    },
    "papermill": {
     "duration": 0.030296,
     "end_time": "2021-09-13T19:56:59.275913",
     "exception": false,
     "start_time": "2021-09-13T19:56:59.245617",
     "status": "completed"
    },
    "tags": []
   },
   "outputs": [
    {
     "name": "stdout",
     "output_type": "stream",
     "text": [
      "0 1 2 3 4 5 6 7 8 9 "
     ]
    }
   ],
   "source": [
    "i = 0\n",
    "while i < 10:\n",
    "    print(i, end=' ')\n",
    "    i += 1 # increase the value of i by 1"
   ]
  },
  {
   "cell_type": "markdown",
   "id": "2151eec1",
   "metadata": {
    "papermill": {
     "duration": 0.025111,
     "end_time": "2021-09-13T19:56:59.321392",
     "exception": false,
     "start_time": "2021-09-13T19:56:59.296281",
     "status": "completed"
    },
    "tags": []
   },
   "source": [
    "The argument of the ``while`` loop is evaluated as a boolean statement, and the loop is executed until the statement evaluates to False."
   ]
  },
  {
   "cell_type": "markdown",
   "id": "c3b60c0b",
   "metadata": {
    "papermill": {
     "duration": 0.027469,
     "end_time": "2021-09-13T19:56:59.375115",
     "exception": false,
     "start_time": "2021-09-13T19:56:59.347646",
     "status": "completed"
    },
    "tags": []
   },
   "source": [
    "# List comprehensions\n",
    "\n",
    "List comprehensions are one of Python's most beloved and unique features. The easiest way to understand them is probably to just look at a few examples:"
   ]
  },
  {
   "cell_type": "code",
   "execution_count": 6,
   "id": "96e60780",
   "metadata": {
    "execution": {
     "iopub.execute_input": "2021-09-13T19:56:59.424473Z",
     "iopub.status.busy": "2021-09-13T19:56:59.423630Z",
     "iopub.status.idle": "2021-09-13T19:56:59.426895Z",
     "shell.execute_reply": "2021-09-13T19:56:59.427385Z"
    },
    "papermill": {
     "duration": 0.032129,
     "end_time": "2021-09-13T19:56:59.427552",
     "exception": false,
     "start_time": "2021-09-13T19:56:59.395423",
     "status": "completed"
    },
    "tags": []
   },
   "outputs": [
    {
     "data": {
      "text/plain": [
       "[0, 1, 4, 9, 16, 25, 36, 49, 64, 81]"
      ]
     },
     "execution_count": 6,
     "metadata": {},
     "output_type": "execute_result"
    }
   ],
   "source": [
    "squares = [n**2 for n in range(10)]\n",
    "squares"
   ]
  },
  {
   "cell_type": "markdown",
   "id": "53d3a33d",
   "metadata": {
    "papermill": {
     "duration": 0.02034,
     "end_time": "2021-09-13T19:56:59.468547",
     "exception": false,
     "start_time": "2021-09-13T19:56:59.448207",
     "status": "completed"
    },
    "tags": []
   },
   "source": [
    "Here's how we would do the same thing without a list comprehension:"
   ]
  },
  {
   "cell_type": "code",
   "execution_count": 7,
   "id": "9e664607",
   "metadata": {
    "execution": {
     "iopub.execute_input": "2021-09-13T19:56:59.516303Z",
     "iopub.status.busy": "2021-09-13T19:56:59.515594Z",
     "iopub.status.idle": "2021-09-13T19:56:59.518746Z",
     "shell.execute_reply": "2021-09-13T19:56:59.518158Z"
    },
    "papermill": {
     "duration": 0.029375,
     "end_time": "2021-09-13T19:56:59.518884",
     "exception": false,
     "start_time": "2021-09-13T19:56:59.489509",
     "status": "completed"
    },
    "tags": []
   },
   "outputs": [
    {
     "data": {
      "text/plain": [
       "[0, 1, 4, 9, 16, 25, 36, 49, 64, 81]"
      ]
     },
     "execution_count": 7,
     "metadata": {},
     "output_type": "execute_result"
    }
   ],
   "source": [
    "squares = []\n",
    "for n in range(10):\n",
    "    squares.append(n**2)\n",
    "squares"
   ]
  },
  {
   "cell_type": "markdown",
   "id": "11eba2b6",
   "metadata": {
    "papermill": {
     "duration": 0.020717,
     "end_time": "2021-09-13T19:56:59.562047",
     "exception": false,
     "start_time": "2021-09-13T19:56:59.541330",
     "status": "completed"
    },
    "tags": []
   },
   "source": [
    "We can also add an `if` condition:"
   ]
  },
  {
   "cell_type": "code",
   "execution_count": 8,
   "id": "99611815",
   "metadata": {
    "execution": {
     "iopub.execute_input": "2021-09-13T19:56:59.610756Z",
     "iopub.status.busy": "2021-09-13T19:56:59.610068Z",
     "iopub.status.idle": "2021-09-13T19:56:59.613253Z",
     "shell.execute_reply": "2021-09-13T19:56:59.612713Z"
    },
    "papermill": {
     "duration": 0.030178,
     "end_time": "2021-09-13T19:56:59.613394",
     "exception": false,
     "start_time": "2021-09-13T19:56:59.583216",
     "status": "completed"
    },
    "tags": []
   },
   "outputs": [
    {
     "data": {
      "text/plain": [
       "['Venus', 'Earth', 'Mars']"
      ]
     },
     "execution_count": 8,
     "metadata": {},
     "output_type": "execute_result"
    }
   ],
   "source": [
    "short_planets = [planet for planet in planets if len(planet) < 6]\n",
    "short_planets"
   ]
  },
  {
   "cell_type": "markdown",
   "id": "43bd7ed0",
   "metadata": {
    "papermill": {
     "duration": 0.021408,
     "end_time": "2021-09-13T19:56:59.656896",
     "exception": false,
     "start_time": "2021-09-13T19:56:59.635488",
     "status": "completed"
    },
    "tags": []
   },
   "source": [
    "(If you're familiar with SQL, you might think of this as being like a \"WHERE\" clause)\n",
    "\n",
    "Here's an example of filtering with an `if` condition *and* applying some transformation to the loop variable:"
   ]
  },
  {
   "cell_type": "code",
   "execution_count": 9,
   "id": "197526f3",
   "metadata": {
    "execution": {
     "iopub.execute_input": "2021-09-13T19:56:59.704387Z",
     "iopub.status.busy": "2021-09-13T19:56:59.703647Z",
     "iopub.status.idle": "2021-09-13T19:56:59.709135Z",
     "shell.execute_reply": "2021-09-13T19:56:59.709750Z"
    },
    "papermill": {
     "duration": 0.031357,
     "end_time": "2021-09-13T19:56:59.709923",
     "exception": false,
     "start_time": "2021-09-13T19:56:59.678566",
     "status": "completed"
    },
    "tags": []
   },
   "outputs": [
    {
     "data": {
      "text/plain": [
       "['VENUS!', 'EARTH!', 'MARS!']"
      ]
     },
     "execution_count": 9,
     "metadata": {},
     "output_type": "execute_result"
    }
   ],
   "source": [
    "# str.upper() returns an all-caps version of a string\n",
    "loud_short_planets = [planet.upper() + '!' for planet in planets if len(planet) < 6]\n",
    "loud_short_planets"
   ]
  },
  {
   "cell_type": "markdown",
   "id": "5d564937",
   "metadata": {
    "papermill": {
     "duration": 0.022001,
     "end_time": "2021-09-13T19:56:59.754182",
     "exception": false,
     "start_time": "2021-09-13T19:56:59.732181",
     "status": "completed"
    },
    "tags": []
   },
   "source": [
    "People usually write these on a single line, but you might find the structure clearer when it's split up over 3 lines:"
   ]
  },
  {
   "cell_type": "code",
   "execution_count": 10,
   "id": "58f6c87c",
   "metadata": {
    "execution": {
     "iopub.execute_input": "2021-09-13T19:56:59.802191Z",
     "iopub.status.busy": "2021-09-13T19:56:59.801504Z",
     "iopub.status.idle": "2021-09-13T19:56:59.808196Z",
     "shell.execute_reply": "2021-09-13T19:56:59.807609Z"
    },
    "papermill": {
     "duration": 0.031762,
     "end_time": "2021-09-13T19:56:59.808342",
     "exception": false,
     "start_time": "2021-09-13T19:56:59.776580",
     "status": "completed"
    },
    "tags": []
   },
   "outputs": [
    {
     "data": {
      "text/plain": [
       "['VENUS!', 'EARTH!', 'MARS!']"
      ]
     },
     "execution_count": 10,
     "metadata": {},
     "output_type": "execute_result"
    }
   ],
   "source": [
    "[\n",
    "    planet.upper() + '!' \n",
    "    for planet in planets \n",
    "    if len(planet) < 6\n",
    "]"
   ]
  },
  {
   "cell_type": "markdown",
   "id": "e62e8b4a",
   "metadata": {
    "papermill": {
     "duration": 0.022524,
     "end_time": "2021-09-13T19:56:59.854151",
     "exception": false,
     "start_time": "2021-09-13T19:56:59.831627",
     "status": "completed"
    },
    "tags": []
   },
   "source": [
    "(Continuing the SQL analogy, you could think of these three lines as SELECT, FROM, and WHERE)\n",
    "\n",
    "The expression on the left doesn't technically have to involve the loop variable (though it'd be pretty unusual for it not to). What do you think the expression below will evaluate to? Press the 'output' button to check. "
   ]
  },
  {
   "cell_type": "code",
   "execution_count": 11,
   "id": "ba4c1c79",
   "metadata": {
    "_kg_hide-output": true,
    "execution": {
     "iopub.execute_input": "2021-09-13T19:56:59.905988Z",
     "iopub.status.busy": "2021-09-13T19:56:59.905345Z",
     "iopub.status.idle": "2021-09-13T19:56:59.909192Z",
     "shell.execute_reply": "2021-09-13T19:56:59.908593Z"
    },
    "papermill": {
     "duration": 0.032386,
     "end_time": "2021-09-13T19:56:59.909339",
     "exception": false,
     "start_time": "2021-09-13T19:56:59.876953",
     "status": "completed"
    },
    "tags": []
   },
   "outputs": [
    {
     "data": {
      "text/plain": [
       "[32, 32, 32, 32, 32, 32, 32, 32]"
      ]
     },
     "execution_count": 11,
     "metadata": {},
     "output_type": "execute_result"
    }
   ],
   "source": [
    "[32 for planet in planets]"
   ]
  },
  {
   "cell_type": "markdown",
   "id": "254e11fb",
   "metadata": {
    "papermill": {
     "duration": 0.023622,
     "end_time": "2021-09-13T19:56:59.956487",
     "exception": false,
     "start_time": "2021-09-13T19:56:59.932865",
     "status": "completed"
    },
    "tags": []
   },
   "source": [
    "List comprehensions combined with functions like `min`, `max`, and `sum` can lead to impressive one-line solutions for problems that would otherwise require several lines of code. \n",
    "\n",
    "For example, compare the following two cells of code that do the same thing.\n"
   ]
  },
  {
   "cell_type": "code",
   "execution_count": 12,
   "id": "076e17d5",
   "metadata": {
    "collapsed": true,
    "execution": {
     "iopub.execute_input": "2021-09-13T19:57:00.008644Z",
     "iopub.status.busy": "2021-09-13T19:57:00.007932Z",
     "iopub.status.idle": "2021-09-13T19:57:00.011224Z",
     "shell.execute_reply": "2021-09-13T19:57:00.010520Z"
    },
    "papermill": {
     "duration": 0.031832,
     "end_time": "2021-09-13T19:57:00.011377",
     "exception": false,
     "start_time": "2021-09-13T19:56:59.979545",
     "status": "completed"
    },
    "tags": []
   },
   "outputs": [],
   "source": [
    "def count_negatives(nums):\n",
    "    \"\"\"Return the number of negative numbers in the given list.\n",
    "    \n",
    "    >>> count_negatives([5, -1, -2, 0, 3])\n",
    "    2\n",
    "    \"\"\"\n",
    "    n_negative = 0\n",
    "    for num in nums:\n",
    "        if num < 0:\n",
    "            n_negative = n_negative + 1\n",
    "    return n_negative"
   ]
  },
  {
   "cell_type": "markdown",
   "id": "b157c420",
   "metadata": {
    "papermill": {
     "duration": 0.022936,
     "end_time": "2021-09-13T19:57:00.058406",
     "exception": false,
     "start_time": "2021-09-13T19:57:00.035470",
     "status": "completed"
    },
    "tags": []
   },
   "source": [
    "Here's a solution using a list comprehension:"
   ]
  },
  {
   "cell_type": "code",
   "execution_count": 13,
   "id": "b22a87d2",
   "metadata": {
    "collapsed": true,
    "execution": {
     "iopub.execute_input": "2021-09-13T19:57:00.110449Z",
     "iopub.status.busy": "2021-09-13T19:57:00.109742Z",
     "iopub.status.idle": "2021-09-13T19:57:00.112348Z",
     "shell.execute_reply": "2021-09-13T19:57:00.111803Z"
    },
    "papermill": {
     "duration": 0.030759,
     "end_time": "2021-09-13T19:57:00.112495",
     "exception": false,
     "start_time": "2021-09-13T19:57:00.081736",
     "status": "completed"
    },
    "tags": []
   },
   "outputs": [],
   "source": [
    "def count_negatives(nums):\n",
    "    return len([num for num in nums if num < 0])"
   ]
  },
  {
   "cell_type": "markdown",
   "id": "ce96f575",
   "metadata": {
    "papermill": {
     "duration": 0.022742,
     "end_time": "2021-09-13T19:57:00.158292",
     "exception": false,
     "start_time": "2021-09-13T19:57:00.135550",
     "status": "completed"
    },
    "tags": []
   },
   "source": [
    "Much better, right?\n",
    "\n",
    "Well if all we care about is minimizing the length of our code, this third solution is better still!"
   ]
  },
  {
   "cell_type": "code",
   "execution_count": 14,
   "id": "7f5f2ca1",
   "metadata": {
    "collapsed": true,
    "execution": {
     "iopub.execute_input": "2021-09-13T19:57:00.210228Z",
     "iopub.status.busy": "2021-09-13T19:57:00.209459Z",
     "iopub.status.idle": "2021-09-13T19:57:00.212483Z",
     "shell.execute_reply": "2021-09-13T19:57:00.211789Z"
    },
    "papermill": {
     "duration": 0.031324,
     "end_time": "2021-09-13T19:57:00.212634",
     "exception": false,
     "start_time": "2021-09-13T19:57:00.181310",
     "status": "completed"
    },
    "tags": []
   },
   "outputs": [],
   "source": [
    "def count_negatives(nums):\n",
    "    # Reminder: in the \"booleans and conditionals\" exercises, we learned about a quirk of \n",
    "    # Python where it calculates something like True + True + False + True to be equal to 3.\n",
    "    return sum([num < 0 for num in nums])"
   ]
  },
  {
   "cell_type": "markdown",
   "id": "8462b5c4",
   "metadata": {
    "papermill": {
     "duration": 0.023277,
     "end_time": "2021-09-13T19:57:00.259673",
     "exception": false,
     "start_time": "2021-09-13T19:57:00.236396",
     "status": "completed"
    },
    "tags": []
   },
   "source": [
    "Which of these solutions is the \"best\" is entirely subjective. Solving a problem with less code is always nice, but it's worth keeping in mind the following lines from [The Zen of Python](https://en.wikipedia.org/wiki/Zen_of_Python):\n",
    "\n",
    "> Readability counts.  \n",
    "> Explicit is better than implicit.\n",
    "\n",
    "So, use these tools to make compact readable programs. But when you have to choose, favor code that is easy for others to understand."
   ]
  },
  {
   "cell_type": "markdown",
   "id": "d322364f",
   "metadata": {
    "papermill": {
     "duration": 0.023255,
     "end_time": "2021-09-13T19:57:00.307216",
     "exception": false,
     "start_time": "2021-09-13T19:57:00.283961",
     "status": "completed"
    },
    "tags": []
   },
   "source": [
    "# Your Turn\n",
    "\n",
    "You know what's next -- we have some **[fun coding challenges](https://www.kaggle.com/kernels/fork/1275177)** for you! This next set of coding problems is shorter, so try it now."
   ]
  }
 ],
 "metadata": {
  "anaconda-cloud": {},
  "kernelspec": {
   "display_name": "Python 3",
   "language": "python",
   "name": "python3"
  },
  "language_info": {
   "codemirror_mode": {
    "name": "ipython",
    "version": 3
   },
   "file_extension": ".py",
   "mimetype": "text/x-python",
   "name": "python",
   "nbconvert_exporter": "python",
   "pygments_lexer": "ipython3",
   "version": "3.7.10"
  },
  "learntools_metadata": {
   "lesson_index": 4,
   "type": "tutorial"
  },
  "papermill": {
   "default_parameters": {},
   "duration": 10.483638,
   "end_time": "2021-09-13T19:57:00.940457",
   "environment_variables": {},
   "exception": null,
   "input_path": "__notebook__.ipynb",
   "output_path": "__notebook__.ipynb",
   "parameters": {},
   "start_time": "2021-09-13T19:56:50.456819",
   "version": "2.3.3"
  }
 },
 "nbformat": 4,
 "nbformat_minor": 5
}
