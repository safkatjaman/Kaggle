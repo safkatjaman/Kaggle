{
 "cells": [
  {
   "cell_type": "markdown",
   "id": "e08aafcf",
   "metadata": {
    "papermill": {
     "duration": 0.016483,
     "end_time": "2021-09-13T19:34:39.222491",
     "exception": false,
     "start_time": "2021-09-13T19:34:39.206008",
     "status": "completed"
    },
    "tags": []
   },
   "source": [
    "# Booleans\n",
    "\n",
    "Python has a type of variable called `bool`. It has two possible values: `True` and `False`."
   ]
  },
  {
   "cell_type": "code",
   "execution_count": 1,
   "id": "abd88fca",
   "metadata": {
    "collapsed": true,
    "execution": {
     "iopub.execute_input": "2021-09-13T19:34:39.266323Z",
     "iopub.status.busy": "2021-09-13T19:34:39.265657Z",
     "iopub.status.idle": "2021-09-13T19:34:39.270596Z",
     "shell.execute_reply": "2021-09-13T19:34:39.269868Z"
    },
    "papermill": {
     "duration": 0.03196,
     "end_time": "2021-09-13T19:34:39.270759",
     "exception": false,
     "start_time": "2021-09-13T19:34:39.238799",
     "status": "completed"
    },
    "tags": []
   },
   "outputs": [
    {
     "name": "stdout",
     "output_type": "stream",
     "text": [
      "True\n",
      "<class 'bool'>\n"
     ]
    }
   ],
   "source": [
    "x = True\n",
    "print(x)\n",
    "print(type(x))"
   ]
  },
  {
   "cell_type": "markdown",
   "id": "c4c5e0cc",
   "metadata": {
    "papermill": {
     "duration": 0.01565,
     "end_time": "2021-09-13T19:34:39.302853",
     "exception": false,
     "start_time": "2021-09-13T19:34:39.287203",
     "status": "completed"
    },
    "tags": []
   },
   "source": [
    "Rather than putting `True` or `False` directly in our code, we usually get boolean values from **boolean operators**.  These are operators that answer yes/no questions. We'll go through some of these operators below. "
   ]
  },
  {
   "cell_type": "markdown",
   "id": "53103228",
   "metadata": {
    "papermill": {
     "duration": 0.015741,
     "end_time": "2021-09-13T19:34:39.334521",
     "exception": false,
     "start_time": "2021-09-13T19:34:39.318780",
     "status": "completed"
    },
    "tags": []
   },
   "source": [
    "## Comparison Operations\n",
    "\n",
    "| Operation     | Description                       || Operation     | Description                          |\n",
    "|---------------|-----------------------------------||---------------|--------------------------------------|\n",
    "| ``a == b``    | ``a`` equal to ``b``              || ``a != b``    | ``a`` not equal to ``b``             |\n",
    "| ``a < b``     | ``a`` less than ``b``             || ``a > b``     | ``a`` greater than ``b``             |\n",
    "| ``a <= b``    | ``a`` less than or equal to ``b`` || ``a >= b``    | ``a`` greater than or equal to ``b`` |\n",
    "\n"
   ]
  },
  {
   "cell_type": "code",
   "execution_count": 2,
   "id": "669e06e2",
   "metadata": {
    "collapsed": true,
    "execution": {
     "iopub.execute_input": "2021-09-13T19:34:39.372806Z",
     "iopub.status.busy": "2021-09-13T19:34:39.372084Z",
     "iopub.status.idle": "2021-09-13T19:34:39.374775Z",
     "shell.execute_reply": "2021-09-13T19:34:39.375256Z"
    },
    "papermill": {
     "duration": 0.024994,
     "end_time": "2021-09-13T19:34:39.375433",
     "exception": false,
     "start_time": "2021-09-13T19:34:39.350439",
     "status": "completed"
    },
    "tags": []
   },
   "outputs": [
    {
     "name": "stdout",
     "output_type": "stream",
     "text": [
      "Can a 19-year-old run for president? False\n",
      "Can a 45-year-old run for president? True\n"
     ]
    }
   ],
   "source": [
    "def can_run_for_president(age):\n",
    "    \"\"\"Can someone of the given age run for president in the US?\"\"\"\n",
    "    # The US Constitution says you must be at least 35 years old\n",
    "    return age >= 35\n",
    "\n",
    "print(\"Can a 19-year-old run for president?\", can_run_for_president(19))\n",
    "print(\"Can a 45-year-old run for president?\", can_run_for_president(45))"
   ]
  },
  {
   "cell_type": "markdown",
   "id": "bc8714ef",
   "metadata": {
    "papermill": {
     "duration": 0.016096,
     "end_time": "2021-09-13T19:34:39.407904",
     "exception": false,
     "start_time": "2021-09-13T19:34:39.391808",
     "status": "completed"
    },
    "tags": []
   },
   "source": [
    "Comparisons frequently work like you'd hope"
   ]
  },
  {
   "cell_type": "code",
   "execution_count": 3,
   "id": "48000ba5",
   "metadata": {
    "collapsed": true,
    "execution": {
     "iopub.execute_input": "2021-09-13T19:34:39.444461Z",
     "iopub.status.busy": "2021-09-13T19:34:39.443798Z",
     "iopub.status.idle": "2021-09-13T19:34:39.450047Z",
     "shell.execute_reply": "2021-09-13T19:34:39.450602Z"
    },
    "papermill": {
     "duration": 0.026614,
     "end_time": "2021-09-13T19:34:39.450773",
     "exception": false,
     "start_time": "2021-09-13T19:34:39.424159",
     "status": "completed"
    },
    "tags": []
   },
   "outputs": [
    {
     "data": {
      "text/plain": [
       "True"
      ]
     },
     "execution_count": 3,
     "metadata": {},
     "output_type": "execute_result"
    }
   ],
   "source": [
    "3.0 == 3"
   ]
  },
  {
   "cell_type": "markdown",
   "id": "220aa75b",
   "metadata": {
    "papermill": {
     "duration": 0.020217,
     "end_time": "2021-09-13T19:34:39.488594",
     "exception": false,
     "start_time": "2021-09-13T19:34:39.468377",
     "status": "completed"
    },
    "tags": []
   },
   "source": [
    "But sometimes they can be tricky"
   ]
  },
  {
   "cell_type": "code",
   "execution_count": 4,
   "id": "6adf8aaf",
   "metadata": {
    "collapsed": true,
    "execution": {
     "iopub.execute_input": "2021-09-13T19:34:39.530267Z",
     "iopub.status.busy": "2021-09-13T19:34:39.529280Z",
     "iopub.status.idle": "2021-09-13T19:34:39.534566Z",
     "shell.execute_reply": "2021-09-13T19:34:39.535093Z"
    },
    "papermill": {
     "duration": 0.026611,
     "end_time": "2021-09-13T19:34:39.535262",
     "exception": false,
     "start_time": "2021-09-13T19:34:39.508651",
     "status": "completed"
    },
    "tags": []
   },
   "outputs": [
    {
     "data": {
      "text/plain": [
       "False"
      ]
     },
     "execution_count": 4,
     "metadata": {},
     "output_type": "execute_result"
    }
   ],
   "source": [
    "'3' == 3"
   ]
  },
  {
   "cell_type": "markdown",
   "id": "ba46b590",
   "metadata": {
    "papermill": {
     "duration": 0.017358,
     "end_time": "2021-09-13T19:34:39.571866",
     "exception": false,
     "start_time": "2021-09-13T19:34:39.554508",
     "status": "completed"
    },
    "tags": []
   },
   "source": [
    "Comparison operators can be combined with the arithmetic operators we've already seen to express a virtually limitless range of mathematical tests. For example, we can check if a number is odd by checking that the modulus with 2 returns 1:"
   ]
  },
  {
   "cell_type": "code",
   "execution_count": 5,
   "id": "9f72bd36",
   "metadata": {
    "collapsed": true,
    "execution": {
     "iopub.execute_input": "2021-09-13T19:34:39.610619Z",
     "iopub.status.busy": "2021-09-13T19:34:39.609665Z",
     "iopub.status.idle": "2021-09-13T19:34:39.616068Z",
     "shell.execute_reply": "2021-09-13T19:34:39.615583Z"
    },
    "papermill": {
     "duration": 0.027058,
     "end_time": "2021-09-13T19:34:39.616204",
     "exception": false,
     "start_time": "2021-09-13T19:34:39.589146",
     "status": "completed"
    },
    "tags": []
   },
   "outputs": [
    {
     "name": "stdout",
     "output_type": "stream",
     "text": [
      "Is 100 odd? False\n",
      "Is -1 odd? True\n"
     ]
    }
   ],
   "source": [
    "def is_odd(n):\n",
    "    return (n % 2) == 1\n",
    "\n",
    "print(\"Is 100 odd?\", is_odd(100))\n",
    "print(\"Is -1 odd?\", is_odd(-1))"
   ]
  },
  {
   "cell_type": "markdown",
   "id": "5263645f",
   "metadata": {
    "papermill": {
     "duration": 0.017477,
     "end_time": "2021-09-13T19:34:39.651476",
     "exception": false,
     "start_time": "2021-09-13T19:34:39.633999",
     "status": "completed"
    },
    "tags": []
   },
   "source": [
    "Remember to use `==` instead of `=` when making comparisons. If you write `n == 2` you are asking about the value of n. When you write `n = 2` you are changing the value of n."
   ]
  },
  {
   "cell_type": "markdown",
   "id": "6dd4531c",
   "metadata": {
    "papermill": {
     "duration": 0.017325,
     "end_time": "2021-09-13T19:34:39.686526",
     "exception": false,
     "start_time": "2021-09-13T19:34:39.669201",
     "status": "completed"
    },
    "tags": []
   },
   "source": [
    "## Combining Boolean Values\n",
    "You can combine boolean values using the standard concepts of \"and\", \"or\", and \"not\". In fact, the words to do this are: ``and``, ``or``, and ``not``.\n",
    "\n",
    "With these, we can make our `can_run_for_president` function more accurate."
   ]
  },
  {
   "cell_type": "code",
   "execution_count": 6,
   "id": "253d9268",
   "metadata": {
    "collapsed": true,
    "execution": {
     "iopub.execute_input": "2021-09-13T19:34:39.730250Z",
     "iopub.status.busy": "2021-09-13T19:34:39.729459Z",
     "iopub.status.idle": "2021-09-13T19:34:39.733212Z",
     "shell.execute_reply": "2021-09-13T19:34:39.732605Z"
    },
    "papermill": {
     "duration": 0.028484,
     "end_time": "2021-09-13T19:34:39.733368",
     "exception": false,
     "start_time": "2021-09-13T19:34:39.704884",
     "status": "completed"
    },
    "tags": []
   },
   "outputs": [
    {
     "name": "stdout",
     "output_type": "stream",
     "text": [
      "False\n",
      "False\n",
      "True\n"
     ]
    }
   ],
   "source": [
    "def can_run_for_president(age, is_natural_born_citizen):\n",
    "    \"\"\"Can someone of the given age and citizenship status run for president in the US?\"\"\"\n",
    "    # The US Constitution says you must be a natural born citizen *and* at least 35 years old\n",
    "    return is_natural_born_citizen and (age >= 35)\n",
    "\n",
    "print(can_run_for_president(19, True))\n",
    "print(can_run_for_president(55, False))\n",
    "print(can_run_for_president(55, True))"
   ]
  },
  {
   "cell_type": "markdown",
   "id": "714153f8",
   "metadata": {
    "papermill": {
     "duration": 0.017994,
     "end_time": "2021-09-13T19:34:39.769734",
     "exception": false,
     "start_time": "2021-09-13T19:34:39.751740",
     "status": "completed"
    },
    "tags": []
   },
   "source": [
    "Quick, can you guess the value of this expression?"
   ]
  },
  {
   "cell_type": "code",
   "execution_count": 7,
   "id": "2cffc13d",
   "metadata": {
    "_kg_hide-output": true,
    "collapsed": true,
    "execution": {
     "iopub.execute_input": "2021-09-13T19:34:39.812054Z",
     "iopub.status.busy": "2021-09-13T19:34:39.811194Z",
     "iopub.status.idle": "2021-09-13T19:34:39.815003Z",
     "shell.execute_reply": "2021-09-13T19:34:39.814497Z"
    },
    "papermill": {
     "duration": 0.027103,
     "end_time": "2021-09-13T19:34:39.815143",
     "exception": false,
     "start_time": "2021-09-13T19:34:39.788040",
     "status": "completed"
    },
    "tags": []
   },
   "outputs": [
    {
     "data": {
      "text/plain": [
       "True"
      ]
     },
     "execution_count": 7,
     "metadata": {},
     "output_type": "execute_result"
    }
   ],
   "source": [
    "True or True and False"
   ]
  },
  {
   "cell_type": "markdown",
   "id": "f72ff385",
   "metadata": {
    "papermill": {
     "duration": 0.019256,
     "end_time": "2021-09-13T19:34:39.853174",
     "exception": false,
     "start_time": "2021-09-13T19:34:39.833918",
     "status": "completed"
    },
    "tags": []
   },
   "source": [
    "(Click the \"output\" button to see the answer)\n",
    "\n",
    "To answer this, you'd need to figure out the order of operations. \n",
    "\n",
    "For example, `and` is evaluated before `or`. That's why the first expression above is `True`. If we evaluated it from left to right, we would have calculated `True or True` first (which is `True`), and then taken the `and` of that result with `False`, giving a final value of `False`.\n",
    "\n",
    "You could try to [memorize the order of precedence](https://docs.python.org/3/reference/expressions.html#operator-precedence), but a safer bet is to just use liberal parentheses. Not only does this help prevent bugs, it makes your intentions clearer to anyone who reads your code. \n",
    "\n",
    "For example, consider the following expression:\n",
    "\n",
    "```python\n",
    "prepared_for_weather = have_umbrella or rain_level < 5 and have_hood or not rain_level > 0 and is_workday\n",
    "```\n",
    "\n",
    "I'm trying to say that I'm safe from today's weather....\n",
    "- if I have an umbrella...\n",
    "- or if the rain isn't too heavy and I have a hood...\n",
    "- otherwise, I'm still fine unless it's raining *and* it's a workday\n",
    "\n",
    "But not only is my Python code hard to read, it has a bug. We can address both problems by adding some parentheses:\n",
    "\n",
    "```python\n",
    "prepared_for_weather = have_umbrella or (rain_level < 5 and have_hood) or not (rain_level > 0 and is_workday)\n",
    "```\n",
    "\n",
    "You can add even more parentheses if you think it helps readability:\n",
    "\n",
    "```python\n",
    "prepared_for_weather = have_umbrella or ((rain_level < 5) and have_hood) or (not (rain_level > 0 and is_workday))\n",
    "```\n",
    "\n",
    "We can also split it over multiple lines to emphasize the 3-part structure described above:\n",
    "\n",
    "```python\n",
    "prepared_for_weather = (\n",
    "    have_umbrella \n",
    "    or ((rain_level < 5) and have_hood) \n",
    "    or (not (rain_level > 0 and is_workday))\n",
    ")\n",
    "```"
   ]
  },
  {
   "cell_type": "markdown",
   "id": "0a2dae68",
   "metadata": {
    "papermill": {
     "duration": 0.018798,
     "end_time": "2021-09-13T19:34:39.891080",
     "exception": false,
     "start_time": "2021-09-13T19:34:39.872282",
     "status": "completed"
    },
    "tags": []
   },
   "source": [
    "# Conditionals\n",
    "\n",
    "Booleans are most useful when combined with *conditional statements*, using the keywords ``if``, ``elif``, and ``else``.\n",
    "\n",
    "Conditional statements, often referred to as *if-then* statements, let you control what pieces of code are run based on the value of some Boolean condition.\n",
    "Here's an example:"
   ]
  },
  {
   "cell_type": "code",
   "execution_count": 8,
   "id": "8343cc6c",
   "metadata": {
    "collapsed": true,
    "execution": {
     "iopub.execute_input": "2021-09-13T19:34:39.933214Z",
     "iopub.status.busy": "2021-09-13T19:34:39.932226Z",
     "iopub.status.idle": "2021-09-13T19:34:39.939773Z",
     "shell.execute_reply": "2021-09-13T19:34:39.939129Z"
    },
    "papermill": {
     "duration": 0.029835,
     "end_time": "2021-09-13T19:34:39.939929",
     "exception": false,
     "start_time": "2021-09-13T19:34:39.910094",
     "status": "completed"
    },
    "tags": []
   },
   "outputs": [
    {
     "name": "stdout",
     "output_type": "stream",
     "text": [
      "0 is zero\n",
      "-15 is negative\n"
     ]
    }
   ],
   "source": [
    "def inspect(x):\n",
    "    if x == 0:\n",
    "        print(x, \"is zero\")\n",
    "    elif x > 0:\n",
    "        print(x, \"is positive\")\n",
    "    elif x < 0:\n",
    "        print(x, \"is negative\")\n",
    "    else:\n",
    "        print(x, \"is unlike anything I've ever seen...\")\n",
    "\n",
    "inspect(0)\n",
    "inspect(-15)"
   ]
  },
  {
   "cell_type": "markdown",
   "id": "328a6c51",
   "metadata": {
    "papermill": {
     "duration": 0.018908,
     "end_time": "2021-09-13T19:34:39.978968",
     "exception": false,
     "start_time": "2021-09-13T19:34:39.960060",
     "status": "completed"
    },
    "tags": []
   },
   "source": [
    "The ``if`` and ``else`` keywords are often used in other languages; its more unique keyword is ``elif``, a contraction of \"else if\".\n",
    "In these conditional clauses, ``elif`` and ``else`` blocks are optional; additionally, you can include as many ``elif`` statements as you would like.\n",
    "\n",
    "Note especially the use of colons (``:``) and whitespace to denote separate blocks of code. This is similar to what happens when we define a function - the function header ends with `:`, and the following line is indented with 4 spaces. All subsequent indented lines belong to the body of the function, until we encounter an unindented line, ending the function definition."
   ]
  },
  {
   "cell_type": "code",
   "execution_count": 9,
   "id": "e651f815",
   "metadata": {
    "collapsed": true,
    "execution": {
     "iopub.execute_input": "2021-09-13T19:34:40.024485Z",
     "iopub.status.busy": "2021-09-13T19:34:40.023343Z",
     "iopub.status.idle": "2021-09-13T19:34:40.026798Z",
     "shell.execute_reply": "2021-09-13T19:34:40.027327Z"
    },
    "papermill": {
     "duration": 0.029181,
     "end_time": "2021-09-13T19:34:40.027499",
     "exception": false,
     "start_time": "2021-09-13T19:34:39.998318",
     "status": "completed"
    },
    "tags": []
   },
   "outputs": [
    {
     "name": "stdout",
     "output_type": "stream",
     "text": [
      "Only printed when x is positive; x = 1\n",
      "Also only printed when x is positive; x = 1\n",
      "Always printed, regardless of x's value; x = 1\n",
      "Always printed, regardless of x's value; x = 0\n"
     ]
    }
   ],
   "source": [
    "def f(x):\n",
    "    if x > 0:\n",
    "        print(\"Only printed when x is positive; x =\", x)\n",
    "        print(\"Also only printed when x is positive; x =\", x)\n",
    "    print(\"Always printed, regardless of x's value; x =\", x)\n",
    "\n",
    "f(1)\n",
    "f(0)"
   ]
  },
  {
   "cell_type": "markdown",
   "id": "7a4f928f",
   "metadata": {
    "papermill": {
     "duration": 0.019322,
     "end_time": "2021-09-13T19:34:40.067083",
     "exception": false,
     "start_time": "2021-09-13T19:34:40.047761",
     "status": "completed"
    },
    "tags": []
   },
   "source": [
    "## Boolean conversion\n",
    "\n",
    "We've seen `int()`, which turns things into ints, and `float()`, which turns things into floats, so you might not be surprised to hear that Python has a `bool()` function which turns things into bools."
   ]
  },
  {
   "cell_type": "code",
   "execution_count": 10,
   "id": "0f25af95",
   "metadata": {
    "collapsed": true,
    "execution": {
     "iopub.execute_input": "2021-09-13T19:34:40.113739Z",
     "iopub.status.busy": "2021-09-13T19:34:40.112997Z",
     "iopub.status.idle": "2021-09-13T19:34:40.116965Z",
     "shell.execute_reply": "2021-09-13T19:34:40.116430Z"
    },
    "papermill": {
     "duration": 0.029961,
     "end_time": "2021-09-13T19:34:40.117101",
     "exception": false,
     "start_time": "2021-09-13T19:34:40.087140",
     "status": "completed"
    },
    "tags": []
   },
   "outputs": [
    {
     "name": "stdout",
     "output_type": "stream",
     "text": [
      "True\n",
      "False\n",
      "True\n",
      "False\n"
     ]
    }
   ],
   "source": [
    "print(bool(1)) # all numbers are treated as true, except 0\n",
    "print(bool(0))\n",
    "print(bool(\"asf\")) # all strings are treated as true, except the empty string \"\"\n",
    "print(bool(\"\"))\n",
    "# Generally empty sequences (strings, lists, and other types we've yet to see like lists and tuples)\n",
    "# are \"falsey\" and the rest are \"truthy\""
   ]
  },
  {
   "cell_type": "markdown",
   "id": "d9802a34",
   "metadata": {
    "papermill": {
     "duration": 0.019732,
     "end_time": "2021-09-13T19:34:40.157091",
     "exception": false,
     "start_time": "2021-09-13T19:34:40.137359",
     "status": "completed"
    },
    "tags": []
   },
   "source": [
    "We can use non-boolean objects in `if` conditions and other places where a boolean would be expected. Python will implicitly treat them as their corresponding boolean value:"
   ]
  },
  {
   "cell_type": "code",
   "execution_count": 11,
   "id": "720adaf3",
   "metadata": {
    "collapsed": true,
    "execution": {
     "iopub.execute_input": "2021-09-13T19:34:40.203076Z",
     "iopub.status.busy": "2021-09-13T19:34:40.202279Z",
     "iopub.status.idle": "2021-09-13T19:34:40.206149Z",
     "shell.execute_reply": "2021-09-13T19:34:40.205628Z"
    },
    "papermill": {
     "duration": 0.028578,
     "end_time": "2021-09-13T19:34:40.206280",
     "exception": false,
     "start_time": "2021-09-13T19:34:40.177702",
     "status": "completed"
    },
    "tags": []
   },
   "outputs": [
    {
     "name": "stdout",
     "output_type": "stream",
     "text": [
      "spam\n"
     ]
    }
   ],
   "source": [
    "if 0:\n",
    "    print(0)\n",
    "elif \"spam\":\n",
    "    print(\"spam\")"
   ]
  },
  {
   "cell_type": "markdown",
   "id": "c8e7382f",
   "metadata": {
    "papermill": {
     "duration": 0.020372,
     "end_time": "2021-09-13T19:34:40.247230",
     "exception": false,
     "start_time": "2021-09-13T19:34:40.226858",
     "status": "completed"
    },
    "tags": []
   },
   "source": [
    "# Your Turn\n",
    "\n",
    "You probably don't realize how much you have learned so far. Go try the **[hands-on coding problems](https://www.kaggle.com/kernels/fork/1275165)**, and you'll be pleasantly surprised about how much you can do."
   ]
  }
 ],
 "metadata": {
  "kernelspec": {
   "display_name": "Python 3",
   "language": "python",
   "name": "python3"
  },
  "language_info": {
   "codemirror_mode": {
    "name": "ipython",
    "version": 3
   },
   "file_extension": ".py",
   "mimetype": "text/x-python",
   "name": "python",
   "nbconvert_exporter": "python",
   "pygments_lexer": "ipython3",
   "version": "3.7.10"
  },
  "learntools_metadata": {
   "lesson_index": 2,
   "type": "tutorial"
  },
  "papermill": {
   "default_parameters": {},
   "duration": 10.796394,
   "end_time": "2021-09-13T19:34:41.705723",
   "environment_variables": {},
   "exception": null,
   "input_path": "__notebook__.ipynb",
   "output_path": "__notebook__.ipynb",
   "parameters": {},
   "start_time": "2021-09-13T19:34:30.909329",
   "version": "2.3.3"
  }
 },
 "nbformat": 4,
 "nbformat_minor": 5
}
